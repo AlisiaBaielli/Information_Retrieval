{
 "cells": [
  {
   "cell_type": "code",
   "execution_count": 1,
   "metadata": {},
   "outputs": [],
   "source": [
    "from functools import partial\n",
    "\n",
    "import numpy as np\n",
    "\n",
    "import matplotlib.pyplot as plt\n",
    "from matplotlib.pyplot import cm\n",
    "\n",
    "from collections import namedtuple\n",
    "\n",
    "%matplotlib inline"
   ]
  },
  {
   "cell_type": "code",
   "execution_count": 2,
   "metadata": {},
   "outputs": [],
   "source": [
    "from modules.dataset import read_cacm_docs, read_queries\n",
    "from modules.evaluation import read_qrels\n",
    "from modules.preprocessing import load_stopwords, process_text\n",
    "\n",
    "from modules.ranking import compute_df\n",
    "from modules.indexing import build_tf_index\n",
    "\n",
    "from modules.utils import print_results\n",
    "\n",
    "from modules.dataset import Dataset\n",
    "\n",
    "from modules.ranking import tfidf_search, naive_ql_search, ql_search, bm25_search\n",
    "\n",
    "from modules.evaluation import (\n",
    "    precision_k,\n",
    "    recall_k,\n",
    "    average_precision,\n",
    "    evaluate_search_fn,\n",
    ")"
   ]
  },
  {
   "cell_type": "code",
   "execution_count": 3,
   "metadata": {},
   "outputs": [],
   "source": [
    "# Download the Dataset if you have not done it already!\n",
    "from modules.utils import download_dataset\n",
    "\n",
    "download_dataset()"
   ]
  },
  {
   "cell_type": "markdown",
   "metadata": {},
   "source": [
    "---\n",
    "## Analysis of Unsupervised Retrieval (Assignment 1) <a class=\"anchor\" id=\"analysis\"></a>"
   ]
  },
  {
   "cell_type": "markdown",
   "metadata": {},
   "source": [
    "### 1. Information Retrieval Axioms\n",
    "\n",
    "In the first analysis section we will explore different Information Retrieval Axioms by using your implementations from above. This section can be a good way to:\n",
    "1. Learn/Remember the most important IR concepts\n",
    "2. Check your implementations of the search functions you implemented above,\n",
    "3. Expand your understanding regarding the traditional/statistical IR approaches and the way of evaluating them.\n",
    "\n",
    "Note that for each of the questions below, we expect a very short answer of about a couple of sentences (max 75 words). Please answer the question highlighted in red as: *<font color='red'>Question</font>*, and move the answers to your **LaTeX report**, which must be submitted as a compiled PDF via **Canvas**."
   ]
  },
  {
   "cell_type": "code",
   "execution_count": 4,
   "metadata": {},
   "outputs": [],
   "source": [
    "# Load the documents of the dataset again and the stopwords\n",
    "docs = read_cacm_docs()\n",
    "n_docs = len(docs)\n",
    "stopwords = load_stopwords()\n",
    "\n",
    "config = {\n",
    "    \"stem\": True,\n",
    "    \"remove_stopwords\": True,\n",
    "    \"lowercase_text\": True,\n",
    "}\n",
    "\n",
    "\n",
    "def get_dataset(docs, stopwords, config=config):\n",
    "    \"\"\"\n",
    "    Returns ta dataset based on the documents given, the stopwrods,\n",
    "    and the preprocessing configurations.\n",
    "    \"\"\"\n",
    "    doc_repr = []\n",
    "    n_docs = len(docs)\n",
    "    for doc_id, document in docs:\n",
    "        doc_repr.append((doc_id, process_text(document, stopwords, **config)))\n",
    "\n",
    "    tf_index = build_tf_index(doc_repr)\n",
    "    df = compute_df([d[1] for d in doc_repr])\n",
    "\n",
    "    docs_by_id = dict(docs)\n",
    "    dh = Dataset(n_docs, docs_by_id, doc_repr, df, tf_index, stopwords, config)\n",
    "    return dh\n",
    "\n",
    "\n",
    "def get_docs(doc_ids, all_docs=docs):\n",
    "    \"\"\"\n",
    "    Returns a subset of the documents based on the selected\n",
    "    document ids.\n",
    "    \"\"\"\n",
    "    all_docs_by_id = dict(all_docs)\n",
    "\n",
    "    return [(did, all_docs_by_id[did]) for did in doc_ids]"
   ]
  },
  {
   "cell_type": "markdown",
   "metadata": {},
   "source": [
    "#### 1.1: Evaluating Rankings Axioms (ERA)\n",
    "In this subsection we will explore the some of the evaluation axioms in IR"
   ]
  },
  {
   "cell_type": "code",
   "execution_count": 5,
   "metadata": {},
   "outputs": [],
   "source": [
    "def print_scores(ranking, k):\n",
    "    \"\"\"\n",
    "    Helper method for printing the scores for a ranking.\n",
    "    \"\"\"\n",
    "    precision = precision_k(ranking, set(qrels_11), k)\n",
    "    print(f\"precision@{k} = {precision}\")\n",
    "\n",
    "    recall = recall_k(ranking, set(qrels_11), k)\n",
    "    print(f\"recall@{k} = {recall}\")\n",
    "\n",
    "    mean_ap = average_precision(ranking, set(qrels_11))\n",
    "    print(f\"MAP = {mean_ap}\")"
   ]
  },
  {
   "cell_type": "code",
   "execution_count": 6,
   "metadata": {},
   "outputs": [],
   "source": [
    "# Define the example ground truth we will be working with\n",
    "q = \"What articles exist which deal with TSS (Time Sharing System), an\\noperating system for IBM computers?\"\n",
    "# we assume we have only 9 documents in our whole datasetfor the query above their qrels below have the first 5 documents as relevant and the last 5 as irrelevant documents.\n",
    "qrels_11 = [\n",
    "    \"2358\",\n",
    "    \"2020\",\n",
    "    \"1410\",\n",
    "    \"1605\",\n",
    "    \"1572\",\n",
    "]  # the relevant documents for the qery\n",
    "irrelevant_documents_11 = [\n",
    "    \"1831\",\n",
    "    \"2651\",\n",
    "    \"950\",\n",
    "    \"2664\",\n",
    "    \"2290\",\n",
    "]  # the irrelevant documents for the query\n",
    "docs_11_ids = [\n",
    "    *qrels_11,\n",
    "    *irrelevant_documents_11,\n",
    "]  # all the documents are just the intersection of the relevant and irrelevant for the query documents\n",
    "docs_11 = get_docs(docs_11_ids)\n",
    "docs_11_by_id = dict(docs_11)\n",
    "\n",
    "dh_11 = get_dataset(docs_11, stopwords)"
   ]
  },
  {
   "cell_type": "markdown",
   "metadata": {},
   "source": [
    "Assume we have the following ideal raning for the query above."
   ]
  },
  {
   "cell_type": "code",
   "execution_count": 7,
   "metadata": {},
   "outputs": [
    {
     "name": "stdout",
     "output_type": "stream",
     "text": [
      "1.1 - Assumed Ideal Ranking\n",
      "Rank 0(1.0): The Multics Virtual Memory: Concepts and Design\\nA...\n",
      "Rank 1(1.0): The Allocation of Computer Resources-Is Pricing th...\n",
      "Rank 2(1.0): Interarrival Statistics for Time Sharing Systems\\n...\n",
      "Rank 3(1.0): An Experimental Comparison of Time Sharing and Bat...\n",
      "Rank 4(1.0): The Simulation of Time sharing Systems\\nThe develo...\n",
      "Rank 5(0.0): A Comment on Optimal Tree Structures...\n",
      "Rank 6(0.0): The Treatment of Data Types in EL1\\nIn constructin...\n",
      "Rank 7(0.0): Parallel Methods for Integrating Ordinary Differen...\n",
      "Rank 8(0.0): Parallelism in Tape-Sorting\\nTwo methods for emplo...\n",
      "Rank 9(0.0): Immediate Predominators in a Directed Graph [H] (A...\n"
     ]
    }
   ],
   "source": [
    "# Prepare the Ideal Ranking\n",
    "\n",
    "# an ideal ranking should approximately have the first 5 relevant documents as they appear below in the top\n",
    "# followed by the irrelevant documents.\n",
    "scores_11 = [1.0, 1.0, 1.0, 1.0, 1.0, 0.0, 0.0, 0.0, 0.0, 0.0]\n",
    "gt_ranking_11 = [(did, score) for did, score in zip(docs_11_ids, scores_11)]\n",
    "print(\"1.1 - Assumed Ideal Ranking\")\n",
    "print_results(gt_ranking_11, docs_11_by_id)"
   ]
  },
  {
   "cell_type": "code",
   "execution_count": 8,
   "metadata": {},
   "outputs": [
    {
     "name": "stdout",
     "output_type": "stream",
     "text": [
      "> Evaluation scores for the ideal ranking:\n",
      "precision@5 = 1.0\n",
      "recall@5 = 1.0\n",
      "MAP = 1.0\n"
     ]
    }
   ],
   "source": [
    "print(\"> Evaluation scores for the ideal ranking:\")\n",
    "print_scores(gt_ranking_11, k=5)"
   ]
  },
  {
   "cell_type": "markdown",
   "metadata": {},
   "source": [
    "##### 1.1.1: ERA - Ranking Swap Impact (RSI)"
   ]
  },
  {
   "cell_type": "markdown",
   "metadata": {},
   "source": [
    "1. Assume we are given from a ranking method the following ranking `RSI-1`."
   ]
  },
  {
   "cell_type": "code",
   "execution_count": 9,
   "metadata": {},
   "outputs": [
    {
     "name": "stdout",
     "output_type": "stream",
     "text": [
      "The Ranking of RSI-1:\n",
      "Rank 0(1.0): The Multics Virtual Memory: Concepts and Design\\nA...\n",
      "Rank 1(0.9): Parallelism in Tape-Sorting\\nTwo methods for emplo...\n",
      "Rank 2(0.8): The Allocation of Computer Resources-Is Pricing th...\n",
      "Rank 3(0.7): Interarrival Statistics for Time Sharing Systems\\n...\n",
      "Rank 4(0.6): Immediate Predominators in a Directed Graph [H] (A...\n",
      "Rank 5(0.5): An Experimental Comparison of Time Sharing and Bat...\n",
      "Rank 6(0.4): The Simulation of Time sharing Systems\\nThe develo...\n",
      "Rank 7(0.3): A Comment on Optimal Tree Structures...\n",
      "Rank 8(0.2): The Treatment of Data Types in EL1\\nIn constructin...\n",
      "Rank 9(0.1): Parallel Methods for Integrating Ordinary Differen...\n",
      "\n",
      "> Evaluation scores for RSI-1:\n",
      "precision@5 = 0.6\n",
      "recall@5 = 0.6\n",
      "MAP = 0.7595238095238095\n"
     ]
    }
   ],
   "source": [
    "doc_ids_11_a1_1 = [\n",
    "    \"2358\", # R\n",
    "    \"2664\", # IR\n",
    "    \"2020\", # R\n",
    "    \"1410\", # R\n",
    "    \"2290\", # IR\n",
    "    \"1605\", # R\n",
    "    \"1572\", # R\n",
    "    \"1831\", # IR\n",
    "    \"2651\", # IR\n",
    "    \"950\",  # IR\n",
    "]\n",
    "scores_11_a1_1 = [1.0, 0.9, 0.8, 0.7, 0.6, 0.5, 0.4, 0.3, 0.2, 0.1]\n",
    "ranking_11_a1_1 = [(did, score) for did, score in zip(doc_ids_11_a1_1, scores_11_a1_1)]\n",
    "print(\"The Ranking of RSI-1:\")\n",
    "print_results(ranking_11_a1_1, docs_11_by_id)\n",
    "print()\n",
    "print(\"> Evaluation scores for RSI-1:\")\n",
    "print_scores(ranking_11_a1_1, k=len(qrels_11))"
   ]
  },
  {
   "cell_type": "markdown",
   "metadata": {},
   "source": [
    "2. Now assume that as an improvement to the ranking method above, another method attempts to improve the results and returns the following ranking named ``RSI-2`` as an improvement to the initial one (`RSI-1`):"
   ]
  },
  {
   "cell_type": "code",
   "execution_count": 10,
   "metadata": {},
   "outputs": [
    {
     "name": "stdout",
     "output_type": "stream",
     "text": [
      "> The Ranking of RSI-2:\n",
      "Rank 0(1.0): The Multics Virtual Memory: Concepts and Design\\nA...\n",
      "Rank 1(0.9): Parallelism in Tape-Sorting\\nTwo methods for emplo...\n",
      "Rank 2(0.8): The Allocation of Computer Resources-Is Pricing th...\n",
      "Rank 3(0.7): Interarrival Statistics for Time Sharing Systems\\n...\n",
      "Rank 4(0.6): An Experimental Comparison of Time Sharing and Bat...\n",
      "Rank 5(0.5): Immediate Predominators in a Directed Graph [H] (A...\n",
      "Rank 6(0.4): The Simulation of Time sharing Systems\\nThe develo...\n",
      "Rank 7(0.3): A Comment on Optimal Tree Structures...\n",
      "Rank 8(0.2): The Treatment of Data Types in EL1\\nIn constructin...\n",
      "Rank 9(0.1): Parallel Methods for Integrating Ordinary Differen...\n",
      "\n",
      "> Evaluation scores for RSI-2:\n",
      "precision@5 = 0.8\n",
      "recall@5 = 0.8\n",
      "MAP = 0.7861904761904762\n"
     ]
    }
   ],
   "source": [
    "doc_ids_11_a1_2 = [\n",
    "    \"2358\", # R\n",
    "    \"2664\", # IR\n",
    "    \"2020\", # R\n",
    "    \"1410\", # R\n",
    "    \"1605\", # R\n",
    "    \"2290\", # IR\n",
    "    \"1572\", # R\n",
    "    \"1831\", # IR\n",
    "    \"2651\", # IR\n",
    "    \"950\",  # IR\n",
    "]\n",
    "scores_11_a1_2 = [1.0, 0.9, 0.8, 0.7, 0.6, 0.5, 0.4, 0.3, 0.2, 0.1]\n",
    "ranking_11_a1_2 = [(did, score) for did, score in zip(doc_ids_11_a1_2, scores_11_a1_2)]\n",
    "print(\"> The Ranking of RSI-2:\")\n",
    "print_results(ranking_11_a1_2, docs_11_by_id)\n",
    "print()\n",
    "print(\"> Evaluation scores for RSI-2:\")\n",
    "print_scores(ranking_11_a1_2, k=len(qrels_11))"
   ]
  },
  {
   "cell_type": "markdown",
   "metadata": {},
   "source": [
    "3. In addition to the first improvement above (`RSI-2`), another ranking method returns the following ranking named `RSI-3` as an alternative improvement to the `RSI-2`:"
   ]
  },
  {
   "cell_type": "code",
   "execution_count": 11,
   "metadata": {},
   "outputs": [
    {
     "name": "stdout",
     "output_type": "stream",
     "text": [
      "> The Ranking of RSI-3:\n",
      "Rank 0(1.0): The Multics Virtual Memory: Concepts and Design\\nA...\n",
      "Rank 1(0.9): The Allocation of Computer Resources-Is Pricing th...\n",
      "Rank 2(0.8): Parallelism in Tape-Sorting\\nTwo methods for emplo...\n",
      "Rank 3(0.7): Interarrival Statistics for Time Sharing Systems\\n...\n",
      "Rank 4(0.6): Immediate Predominators in a Directed Graph [H] (A...\n",
      "Rank 5(0.5): An Experimental Comparison of Time Sharing and Bat...\n",
      "Rank 6(0.4): The Simulation of Time sharing Systems\\nThe develo...\n",
      "Rank 7(0.3): A Comment on Optimal Tree Structures...\n",
      "Rank 8(0.2): The Treatment of Data Types in EL1\\nIn constructin...\n",
      "Rank 9(0.1): Parallel Methods for Integrating Ordinary Differen...\n",
      "\n",
      "> Evaluation scores for RSI-3:\n",
      "precision@5 = 0.6\n",
      "recall@5 = 0.6\n",
      "MAP = 0.8261904761904761\n"
     ]
    }
   ],
   "source": [
    "# ['2358', '2664', '2020', '1410', '2290', '1605', '1572', '1831', '2651', '950']\n",
    "doc_ids_11_a1_3 = [\n",
    "    \"2358\", # R\n",
    "    \"2020\", # R\n",
    "    \"2664\", # IR\n",
    "    \"1410\", # R\n",
    "    \"2290\", # IR\n",
    "    \"1605\", # R\n",
    "    \"1572\", # R\n",
    "    \"1831\", # IR\n",
    "    \"2651\", # IR\n",
    "    \"950\",  # IR\n",
    "]\n",
    "scores_11_a1_3 = [1.0, 0.9, 0.8, 0.7, 0.6, 0.5, 0.4, 0.3, 0.2, 0.1]\n",
    "ranking_11_a1_3 = [(did, score) for did, score in zip(doc_ids_11_a1_3, scores_11_a1_3)]\n",
    "print(\"> The Ranking of RSI-3:\")\n",
    "print_results(ranking_11_a1_3, docs_11_by_id)\n",
    "print()\n",
    "print(\"> Evaluation scores for RSI-3:\")\n",
    "print_scores(ranking_11_a1_3, k=len(qrels_11))"
   ]
  },
  {
   "cell_type": "markdown",
   "metadata": {},
   "source": [
    "*<font color='red'>Question RSI:</font> For each improvement (`RSI-2` and `RSI-3`) what is the minimum number of swaps (i.e., swapping the position of two elements in the ranking) were applied with respect to the initial ranking (`RSI-1`)? Which of the two improvement rankings (`RSI-2` or `RSI-3`) is better and why?* "
   ]
  },
  {
   "cell_type": "markdown",
   "metadata": {},
   "source": [
    "*<font color='yellow'>Answer RSI: Please move the answer to your LaTeX report, which must be submitted as a compiled PDF via Canvas.</font>*\n",
    "\n",
    "**Answer:**\n",
    "\n",
    "`RSI–2` requires 1 swap (2290 ↔ 1605), and `RSI–3` requires 1 swap (2664 ↔ 2020). `RSI–2` performs better in Precision@5 and Recall@5 (0.8 vs. 0.6), indicating more relevant results in the top positions. `RSI–3` has a slightly higher MAP (0.826 vs. 0.786), suggesting better relevance across the entire list. If early relevance matters more, `RSI–2` is better; if overall ranking quality is more important, `RSI–3` is preferable."
   ]
  },
  {
   "cell_type": "markdown",
   "metadata": {},
   "source": [
    "##### 1.1.2: ERA - Ranking Swap Preference (RSP)"
   ]
  },
  {
   "cell_type": "markdown",
   "metadata": {},
   "source": [
    "The worst ranking can be derived by placing all the relevant documents at the end of the ranking `RSP-1`, like the ranking below:"
   ]
  },
  {
   "cell_type": "code",
   "execution_count": 12,
   "metadata": {},
   "outputs": [
    {
     "name": "stdout",
     "output_type": "stream",
     "text": [
      "> The Ranking of RSP-1:\n",
      "Rank 0(1.0): A Comment on Optimal Tree Structures...\n",
      "Rank 1(0.9): The Treatment of Data Types in EL1\\nIn constructin...\n",
      "Rank 2(0.8): Parallel Methods for Integrating Ordinary Differen...\n",
      "Rank 3(0.7): Parallelism in Tape-Sorting\\nTwo methods for emplo...\n",
      "Rank 4(0.6): Immediate Predominators in a Directed Graph [H] (A...\n",
      "Rank 5(0.5): The Multics Virtual Memory: Concepts and Design\\nA...\n",
      "Rank 6(0.4): The Allocation of Computer Resources-Is Pricing th...\n",
      "Rank 7(0.3): Interarrival Statistics for Time Sharing Systems\\n...\n",
      "Rank 8(0.2): An Experimental Comparison of Time Sharing and Bat...\n",
      "Rank 9(0.1): The Simulation of Time sharing Systems\\nThe develo...\n",
      "\n",
      "> Evaluation scores for RSP-1:\n",
      "precision@5 = 0.0\n",
      "recall@5 = 0.0\n",
      "MAP = 0.3543650793650793\n"
     ]
    }
   ],
   "source": [
    "doc_ids_11_a2_1 = [\n",
    "    \"1831\", # IR\n",
    "    \"2651\", # IR\n",
    "    \"950\",  # IR\n",
    "    \"2664\", # IR\n",
    "    \"2290\", # IR\n",
    "    \"2358\", # R\n",
    "    \"2020\", # R\n",
    "    \"1410\", # R\n",
    "    \"1605\", # R\n",
    "    \"1572\", # R\n",
    "]\n",
    "scores_11_a2_1 = [1.0, 0.9, 0.8, 0.7, 0.6, 0.5, 0.4, 0.3, 0.2, 0.1]\n",
    "ranking_11_a2_1 = [(did, score) for did, score in zip(doc_ids_11_a2_1, scores_11_a2_1)]\n",
    "print(\"> The Ranking of RSP-1:\")\n",
    "print_results(ranking_11_a2_1, docs_11_by_id)\n",
    "print()\n",
    "print(\"> Evaluation scores for RSP-1:\")\n",
    "print_scores(ranking_11_a2_1, k=len(qrels_11))"
   ]
  },
  {
   "cell_type": "markdown",
   "metadata": {},
   "source": [
    "Imagine you are trying to build a new ranking method, and to do that you are exploring the atributes of good rankings. \n",
    "\n",
    "To understand better the importance of the relevant documents at specific positions in a ranking, you explore the effects of changing their positions in it as we have seen in the previous subsection. More specifically, you consider the following scenario: \n",
    "* If you are allowed to shift relevant documents in the ranking ***k* times** (where you shift a document higher in the ranking by jumping over documents in front of them) then what would be a good shift strategy? Which documents to push higher in the ranking and how many hops further each of them to take? \n",
    "\n",
    "Practically, to be able to put this analysis into practice you start from the worst case scenario (`RSP-1`) mentioned above and you explore two cases each of which you make a total of 9 shifts / hops for relevant documents:"
   ]
  },
  {
   "cell_type": "markdown",
   "metadata": {},
   "source": [
    "1. First case (`RSP-2`):"
   ]
  },
  {
   "cell_type": "code",
   "execution_count": 13,
   "metadata": {},
   "outputs": [
    {
     "name": "stdout",
     "output_type": "stream",
     "text": [
      "> The Ranking of RSP-2:\n",
      "Rank 0(1.0): A Comment on Optimal Tree Structures...\n",
      "Rank 1(0.9): The Treatment of Data Types in EL1\\nIn constructin...\n",
      "Rank 2(0.8): The Multics Virtual Memory: Concepts and Design\\nA...\n",
      "Rank 3(0.7): The Allocation of Computer Resources-Is Pricing th...\n",
      "Rank 4(0.6): Interarrival Statistics for Time Sharing Systems\\n...\n",
      "Rank 5(0.5): Parallel Methods for Integrating Ordinary Differen...\n",
      "Rank 6(0.4): Parallelism in Tape-Sorting\\nTwo methods for emplo...\n",
      "Rank 7(0.3): Immediate Predominators in a Directed Graph [H] (A...\n",
      "Rank 8(0.2): An Experimental Comparison of Time Sharing and Bat...\n",
      "Rank 9(0.1): The Simulation of Time sharing Systems\\nThe develo...\n",
      "\n",
      "> Evaluation scores for RSP-2:\n",
      "precision@5 = 0.6\n",
      "recall@5 = 0.6\n",
      "MAP = 0.47555555555555545\n"
     ]
    }
   ],
   "source": [
    "# ['2358', '2020', '1410', '1605', '1572', '1831', '2651', '950', '2664', '2290']\n",
    "doc_ids_11_a2_2 = [\n",
    "    \"1831\", # IR\n",
    "    \"2651\", # IR\n",
    "    \"2358\", # R swapped with 950\n",
    "    \"2020\", # R swapped with 2664\n",
    "    \"1410\", # R swapped with 2290\n",
    "    \"950\",  # IR\n",
    "    \"2664\", # IR\n",
    "    \"2290\", # IR\n",
    "    \"1605\", # R\n",
    "    \"1572\", # R\n",
    "]\n",
    "scores_11_a2_2 = [1.0, 0.9, 0.8, 0.7, 0.6, 0.5, 0.4, 0.3, 0.2, 0.1]\n",
    "ranking_11_a2_2 = [(did, score) for did, score in zip(doc_ids_11_a2_2, scores_11_a2_2)]\n",
    "print(\"> The Ranking of RSP-2:\")\n",
    "print_results(ranking_11_a2_2, docs_11_by_id)\n",
    "print()\n",
    "print(\"> Evaluation scores for RSP-2:\")\n",
    "print_scores(ranking_11_a2_2, k=len(qrels_11))"
   ]
  },
  {
   "cell_type": "markdown",
   "metadata": {},
   "source": [
    "2. Second Case (`RSP-3`):"
   ]
  },
  {
   "cell_type": "code",
   "execution_count": 14,
   "metadata": {},
   "outputs": [
    {
     "name": "stdout",
     "output_type": "stream",
     "text": [
      "> The Ranking of 5.1.1-2 ranking 3\n",
      "Rank 0(1.0): The Simulation of Time sharing Systems\\nThe develo...\n",
      "Rank 1(0.9): A Comment on Optimal Tree Structures...\n",
      "Rank 2(0.8): The Treatment of Data Types in EL1\\nIn constructin...\n",
      "Rank 3(0.7): Parallel Methods for Integrating Ordinary Differen...\n",
      "Rank 4(0.6): Parallelism in Tape-Sorting\\nTwo methods for emplo...\n",
      "Rank 5(0.5): Immediate Predominators in a Directed Graph [H] (A...\n",
      "Rank 6(0.4): The Multics Virtual Memory: Concepts and Design\\nA...\n",
      "Rank 7(0.3): The Allocation of Computer Resources-Is Pricing th...\n",
      "Rank 8(0.2): Interarrival Statistics for Time Sharing Systems\\n...\n",
      "Rank 9(0.1): An Experimental Comparison of Time Sharing and Bat...\n",
      "\n",
      "> Evaluation scores for 5.1.1-2 ranking 3:\n",
      "precision@5 = 0.2\n",
      "recall@5 = 0.2\n",
      "MAP = 0.5210317460317461\n"
     ]
    }
   ],
   "source": [
    "doc_ids_11_a2_3 = [\n",
    "    \"1572\", # R moved from the last position\n",
    "    \"1831\", # IR\n",
    "    \"2651\", # IR\n",
    "    \"950\",  # IR\n",
    "    \"2664\", # IR\n",
    "    \"2290\", # IR\n",
    "    \"2358\", # R\n",
    "    \"2020\", # R\n",
    "    \"1410\", # R\n",
    "    \"1605\", # R\n",
    "]\n",
    "scores_11_a2_3 = [1.0, 0.9, 0.8, 0.7, 0.6, 0.5, 0.4, 0.3, 0.2, 0.1]\n",
    "ranking_11_a2_3 = [(did, score) for did, score in zip(doc_ids_11_a2_3, scores_11_a2_3)]\n",
    "print(\"> The Ranking of 5.1.1-2 ranking 3\")\n",
    "print_results(ranking_11_a2_3, docs_11_by_id)\n",
    "print()\n",
    "print(\"> Evaluation scores for 5.1.1-2 ranking 3:\")\n",
    "print_scores(ranking_11_a2_3, k=len(qrels_11))"
   ]
  },
  {
   "cell_type": "markdown",
   "metadata": {},
   "source": [
    "*<font color='red'>Question RSP:</font> How many relevant documents are shifted in each ranking (`RSP-2` or `RSP-3`), with respect to the worst case ranking `RSP-1`? Which of the two rankings is better and how do you justify it? What general observation/conclusion can you make regarding the move/shift of relevant documents in the ranking?*"
   ]
  },
  {
   "cell_type": "markdown",
   "metadata": {},
   "source": [
    "*<font color='yellow'>Answer RSP: Please move the answer to your LaTeX report, which must be submitted as a compiled PDF via Canvas.</font>*\n",
    "\n",
    "**Answer:**\n",
    "\n",
    "`RSP–2` shifts 3 relevant documents (2358, 2020, 1410), while `RSP–3` shifts only 1 (1572). RSP–2 has better Precision@5 and Recall@5 (0.6 vs. 0.2), prioritizing relevant documents in the top positions. `RSP–3` has a slightly higher MAP (0.521 vs. 0.476), indicating better relevance distribution. Overall, `RSP–2` is better when early relevance matters. The experiment suggests that multiple small shifts of relevant documents are more effective than a single large shift for top-n rankings."
   ]
  },
  {
   "cell_type": "markdown",
   "metadata": {},
   "source": [
    "---\n",
    "#### 1.2: Analyzing the Retrieval Constraints (ARC)\n",
    "In this subsection we will explore some of the axioms for basic Retrieval Models in IR using the TF-IDF method."
   ]
  },
  {
   "cell_type": "markdown",
   "metadata": {},
   "source": [
    "In this section we ask you to implement two different tf-idf ranking methods:\n",
    "\n",
    "1. The `count-idf1`:\n",
    "\n",
    "$$ TF=f_{d,t} $$\n",
    "\n",
    "$$ IDF=\\log (\\frac{N}{n_t})$$\n",
    "\n",
    "2. The `double normalization-tf`:\n",
    "\n",
    "$$ TF=(k + (1-k) \\frac{f_{d,t}}{max_t f_{d,t}}) $$\n",
    "\n",
    "$$ IDF=\\log (\\frac{N}{n_t})$$\n",
    "\n",
    "where $f_{d,t}$ is the frequency of token $t$ in document $d$, $N$ is the number of total documents and $n_t$ is the number of documents containing token $t$."
   ]
  },
  {
   "cell_type": "markdown",
   "metadata": {},
   "source": [
    "**Note**: Although, we will not explicitly test the other two tf-idf ranking methods we ask you above, you should implement them yourself so that to understand how they work since you will need to investigate them further in the next questions. In addition to what said, although we will not explicitly test these notebooks and your implementations we may look into the code to check that you have actually implemented yourself.\n",
    "\n",
    "You do have the freedom though to implement them as you want. The only thing we ask is that they should follow the same method signature (i.e., method API) as the definition of the `tfidf_search` in the modules [ranking.py](./modules/ranking.py) module (but you are very flexible and allowed to use more parameters and maybe default them to other values, or use partial to fill the method's parameters to make the method's API as required). That is to say, the parameters are expected to be: first the `query`, and then the `dh` of type `Dataset`."
   ]
  },
  {
   "cell_type": "markdown",
   "metadata": {},
   "source": [
    "You can implement them here in the notebook or in a different module and then import them here."
   ]
  },
  {
   "cell_type": "markdown",
   "metadata": {},
   "source": [
    "*<font color='yellow'>Your implementation or imports in the next code block.</font>*"
   ]
  },
  {
   "cell_type": "code",
   "execution_count": 15,
   "metadata": {},
   "outputs": [],
   "source": [
    "# Import your implementations or implement them here\n",
    "# import ...\n",
    "# TODO: Complete this part of the code\n",
    "from modules.ranking import tfidf_count_idf1_search, tfidf_double_norm_tf_search"
   ]
  },
  {
   "cell_type": "markdown",
   "metadata": {},
   "source": [
    "In the next code block assign the methods to the specific variables below. Note that the `log_normalization_idf` ranking method is the one you have already implemented before, so we simply import it here."
   ]
  },
  {
   "cell_type": "markdown",
   "metadata": {},
   "source": [
    "*<font color='yellow'> Replace the three dots (i.e., '...') with the appropriate methods you just imported. </font>*"
   ]
  },
  {
   "cell_type": "code",
   "execution_count": 16,
   "metadata": {},
   "outputs": [],
   "source": [
    "# TODO: Complete this part of the code\n",
    "from modules.ranking import tfidf_search\n",
    "\n",
    "count_idf_search = tfidf_count_idf1_search\n",
    "log_normalization_idf_search = tfidf_search\n",
    "double_normalization_idf_search = tfidf_double_norm_tf_search"
   ]
  },
  {
   "cell_type": "markdown",
   "metadata": {},
   "source": [
    "##### 1.2.1 - ARC - Word Count Importance 1 (WCI)"
   ]
  },
  {
   "cell_type": "markdown",
   "metadata": {},
   "source": [
    "Let us start from the first case (`WCI-1`). Assume we are searching for anything related to `IBM` (our query). And assume that your dataset consists of three relevant and two irrelevant documents. See code below for details."
   ]
  },
  {
   "cell_type": "code",
   "execution_count": 17,
   "metadata": {},
   "outputs": [],
   "source": [
    "# Define the example ground truth we will be working with\n",
    "q_12_1 = \"IBM\"\n",
    "# we assume we have only 9 documents in our whole datasetfor the query above their qrels below have the first 5 documents as relevant and the last 5 as irrelevant documents.\n",
    "qrels_12_1 = [\"1161\", \"69\", \"98\"]\n",
    "irrelevant_documents_12_1 = [\"3128\", \"3073\"]\n",
    "docs_12_1_ids = [\n",
    "    *qrels_12_1,\n",
    "    *irrelevant_documents_12_1,\n",
    "]  # all the documents are just the intersection of the relevant and irrelevant for the query documents\n",
    "docs_12_1 = get_docs(docs_12_1_ids)\n",
    "docs_12_1_by_id = dict(docs_12_1)\n",
    "\n",
    "dh_12_1 = get_dataset(docs_12_1, stopwords)"
   ]
  },
  {
   "cell_type": "code",
   "execution_count": 18,
   "metadata": {},
   "outputs": [
    {
     "name": "stdout",
     "output_type": "stream",
     "text": [
      "Preprocessed Query: ['ibm']\n",
      "\n",
      "Word Count Dictionary\n",
      "1161 [('.', 6), (',', 5), ('system', 4), ('featur', 3), ('ibm', 3), ('convers', 3), ('1401', 2), ('compat', 2), ('/', 2), ('360', 2), ('model', 2), ('30', 2), ('\"', 2), ('program', 2), ('rapid', 2), ('aid', 2), ('gener', 1), ('store', 1), ('-', 1), ('comput', 1), ('1400', 1), ('seri', 1), ('part', 1), ('brought', 1), ('edp', 1), ('mass', 1), ('market', 1), ('time', 1), ('larg', 1), ('scale', 1), ('era', 1), ('unfold', 1), ('technolog', 1), ('led', 1), ('obsolesc', 1), ('data', 1), ('process', 1), ('equip', 1), ('written', 1), ('requir', 1), ('tediou', 1), ('incompat', 1), ('machin', 1), ('came', 1), ('design', 1), ('problem', 1), ('specif', 1), ('mind', 1), ('conjunct', 1), ('permit', 1), ('smooth', 1), ('inexpens', 1), ('transit', 1), ('optimum', 1)]\n",
      "69 [('statist', 2), ('program', 2), ('ibm', 2), ('650', 2), ('-', 1), ('part', 1), ('collect', 1), ('descript', 1), ('univers', 1), ('comput', 1), ('center', 1), (\"'\", 1), ('.', 1)]\n",
      "98 [('arithmet', 1), ('translat', 1), ('-', 1), ('compil', 1), ('ibm', 1), ('fortran', 1), ('automat', 1), ('code', 1), ('system', 1)]\n",
      "3128 [('.', 6), (',', 5), ('eventcount', 4), ('control', 4), ('order', 4), ('mechan', 4), ('synchron', 3), ('sequenc', 3), ('process', 3), ('event', 3), ('system', 3), ('protect', 2), ('share', 2), ('simplifi', 2), ('implement', 2), ('concurr', 1), ('requir', 1), ('rel', 1), ('propos', 1), ('abstract', 1), ('object', 1), ('call', 1), ('directli', 1), ('mutual', 1), ('exclus', 1), ('manipul', 1), ('variabl', 1), ('direct', 1), ('correct', 1), ('argument', 1), ('distribut', 1), ('defin', 1), ('formal', 1), ('exampl', 1), ('relationship', 1), ('explain', 1), (';', 1), ('shown', 1), ('applic', 1), ('situat', 1), ('confin', 1), ('inform', 1), ('matter', 1), ('memori', 1)]\n",
      "3073 [('program', 3), ('.', 3), ('commun', 2), ('sequenti', 2), ('process', 2), ('paper', 1), ('suggest', 1), ('input', 1), ('output', 1), ('basic', 1), ('primit', 1), ('parallel', 1), ('composit', 1), ('fundament', 1), ('structur', 1), ('method', 1), ('combin', 1), ('develop', 1), ('dijkstra', 1), (\"'\", 1), ('guard', 1), ('command', 1), (',', 1), ('concept', 1), ('surprisingli', 1), ('versatil', 1), ('illustr', 1), ('sampl', 1), ('solut', 1), ('varieti', 1), ('familiar', 1), ('exercis', 1)]\n",
      "\n",
      "Res Dictionary\n",
      "{'1161': 3, '69': 2, '98': 1, '3128': 0, '3073': 0}\n"
     ]
    }
   ],
   "source": [
    "temp_query = q_12_1\n",
    "temp_dh = dh_12_1\n",
    "temp_docs_by_id = docs_12_1_by_id\n",
    "\n",
    "#############################################################\n",
    "temp_query_preprocessed = temp_dh.preprocess_query(temp_query)\n",
    "print(f\"Preprocessed Query: {temp_query_preprocessed}\\n\")\n",
    "\n",
    "word_count_dict = {}\n",
    "res_dict = {}\n",
    "\n",
    "for temp_doc_id, temp_doc in temp_docs_by_id.items():\n",
    "    res_dict[temp_doc_id] = 0\n",
    "    temp_doc_preprocessed = temp_dh.preprocess_query(temp_doc)\n",
    "\n",
    "    word_count_dict[temp_doc_id] = {}\n",
    "\n",
    "    for token in temp_doc_preprocessed:\n",
    "        token_lower = token.lower()\n",
    "\n",
    "        if token_lower in word_count_dict[temp_doc_id]:\n",
    "            word_count_dict[temp_doc_id][token_lower] += 1\n",
    "        else:\n",
    "            word_count_dict[temp_doc_id][token_lower] = 1\n",
    "\n",
    "        if token_lower in temp_query_preprocessed:\n",
    "            res_dict[temp_doc_id] += 1\n",
    "\n",
    "word_count_dict = {\n",
    "    doc_id: sorted(freqs.items(), key=lambda item: item[1], reverse=True)\n",
    "    for doc_id, freqs in word_count_dict.items()\n",
    "}\n",
    "print(\"Word Count Dictionary\")\n",
    "for doc_id, freqs in word_count_dict.items():\n",
    "    print(doc_id, freqs)\n",
    "\n",
    "print(\"\\nRes Dictionary\")\n",
    "print(res_dict)"
   ]
  },
  {
   "cell_type": "markdown",
   "metadata": {},
   "source": [
    "Then we compute the ranking with each of the three tf-idf ranking methods we have and we get the following results:"
   ]
  },
  {
   "cell_type": "code",
   "execution_count": 19,
   "metadata": {},
   "outputs": [],
   "source": [
    "def print_results(docs, docs_by_id, len_limit=50):\n",
    "    for i, (doc_id, score) in enumerate(docs):\n",
    "        doc_content = (\n",
    "            docs_by_id[doc_id].strip().replace(\"\\n\", \"\\\\n\")[:len_limit] + \"...\"\n",
    "        )\n",
    "        print(f\"Rank {i} (score: {score:.2}, doc_id: {doc_id}): {doc_content}\")"
   ]
  },
  {
   "cell_type": "code",
   "execution_count": 20,
   "metadata": {},
   "outputs": [
    {
     "name": "stdout",
     "output_type": "stream",
     "text": [
      "> count_idf_search Results:\n",
      "Rank 0 (score: 1.5, doc_id: 1161): 1401 Compatibility Feature on the IBM System/360 M...\n",
      "Rank 1 (score: 1.0, doc_id: 69): Statistical Programs for the IBM 650-Part I\\nA col...\n",
      "Rank 2 (score: 0.51, doc_id: 98): The Arithmetic Translator-Compiler of\\nthe IBM FOR...\n",
      "\n",
      "> log_normalization_idf_search Results:\n",
      "Rank 0 (score: 0.71, doc_id: 1161): 1401 Compatibility Feature on the IBM System/360 M...\n",
      "Rank 1 (score: 0.56, doc_id: 69): Statistical Programs for the IBM 650-Part I\\nA col...\n",
      "Rank 2 (score: 0.35, doc_id: 98): The Arithmetic Translator-Compiler of\\nthe IBM FOR...\n",
      "\n",
      "> double_normalization_idf_search Results:\n",
      "Rank 0 (score: 0.51, doc_id: 69): Statistical Programs for the IBM 650-Part I\\nA col...\n",
      "Rank 1 (score: 0.51, doc_id: 98): The Arithmetic Translator-Compiler of\\nthe IBM FOR...\n",
      "Rank 2 (score: 0.38, doc_id: 1161): 1401 Compatibility Feature on the IBM System/360 M...\n"
     ]
    }
   ],
   "source": [
    "#### Function check\n",
    "count_idf_results = count_idf_search(q_12_1, dh_12_1)\n",
    "print(f\"> count_idf_search Results:\")\n",
    "print_results(count_idf_results, docs_12_1_by_id)\n",
    "\n",
    "print()\n",
    "log_norm_idf_results = log_normalization_idf_search(q_12_1, dh_12_1)\n",
    "print(f\"> log_normalization_idf_search Results:\")\n",
    "print_results(log_norm_idf_results, docs_12_1_by_id)\n",
    "\n",
    "print()\n",
    "double_norm_idf_results = double_normalization_idf_search(q_12_1, dh_12_1)\n",
    "print(f\"> double_normalization_idf_search Results:\")\n",
    "print_results(double_norm_idf_results, docs_12_1_by_id)"
   ]
  },
  {
   "cell_type": "markdown",
   "metadata": {},
   "source": [
    "*<font color='red'>Question WCI 1:</font>*\n",
    "- Why do we see only three out of the five documents in each of the rankings (what is so special with the ones omitted)? \n",
    "- After Preprocessing how many times does the 'IBM' word appear in each document? \n",
    "- Do you see any correlation between the term count and the score for each of the tf-idf methods? Is this the same for all of the ranking methods? If not, why is it different in each case?"
   ]
  },
  {
   "cell_type": "markdown",
   "metadata": {},
   "source": [
    "*<font color='yellow'>Answer WCI 1: Please move the answer to your LaTeX report, which must be submitted as a compiled PDF via Canvas.</font>*\n",
    "\n",
    "**Answer:**\n",
    "\n",
    "Only three documents appear because the others lack the term \"IBM\". After preprocessing, \"IBM\" occurs 3 times in DOC_ID 1161, twice in DOC_ID 69, and once in DOC_ID 98. The ranking order for `count_idf_search` and `log_normalization_idf_search` aligns with term frequency. However, `double_normalization_idf_search` applies frequency normalization, reducing the impact of high-frequency terms. As a result, DOC_ID 1161 moves to the lowest rank among the relevant documents."
   ]
  },
  {
   "cell_type": "markdown",
   "metadata": {},
   "source": [
    "##### 1.2.2 - ARC - Word Count Importance 2 (WCI)"
   ]
  },
  {
   "cell_type": "markdown",
   "metadata": {},
   "source": [
    "Moving to the second case (`WCI-2`). Assume we are searching for the query term `'about programs'` (our query). And assume that your dataset consists of four relevant and two irrelevant documents. See code below for details."
   ]
  },
  {
   "cell_type": "code",
   "execution_count": 21,
   "metadata": {},
   "outputs": [],
   "source": [
    "# Define the example ground truth we will be working with\n",
    "q_12_2 = \"about programs\"\n",
    "# we assume we have only 9 documents in our whole datasetfor the query above their qrels below have the first 5 documents as relevant and the last 5 as irrelevant documents.\n",
    "qrels_12_2 = [\"71\", \"2217\", \"2605\", \"1050\"]\n",
    "irrelevant_documents_12_2 = [\"3128\", \"373\"]\n",
    "docs_12_2_ids = [\n",
    "    *qrels_12_2,\n",
    "    *irrelevant_documents_12_2,\n",
    "]  # all the documents are just the intersection of the relevant and irrelevant for the query documents\n",
    "docs_12_2 = get_docs(docs_12_2_ids)\n",
    "docs_12_2_by_id = dict(docs_12_2)\n",
    "\n",
    "dh_12_2 = get_dataset(docs_12_2, stopwords)"
   ]
  },
  {
   "cell_type": "code",
   "execution_count": 22,
   "metadata": {},
   "outputs": [
    {
     "name": "stdout",
     "output_type": "stream",
     "text": [
      "Preprocessed Query: ['program']\n",
      "\n",
      "Word Count Dictionary\n",
      "71 [('program', 11), ('.', 6), (',', 4), ('facil', 3), ('comput', 3), ('-', 3), ('construct', 3), ('propos', 2), ('system', 2), ('prepar', 2), ('larg', 2), ('characterist', 2), ('assumpt', 2), ('feasibl', 1), ('paper', 1), ('design', 1), ('(', 1), ('involv', 1), ('digit', 1), (')', 1), ('assist', 1), ('scale', 1), ('real', 1), ('time', 1), ('capabl', 1), ('varieti', 1), ('machin', 1), ('similar', 1), (\"'\", 1), ('basic', 1), ('random', 1), ('access', 1), ('storag', 1), ('avoid', 1), ('necess', 1), ('segment', 1), ('fashion', 1), ('trivial', 1), ('unrealist', 1), ('intend', 1), ('provid', 1), ('opportun', 1), ('concentr', 1), ('aspect', 1), ('stress', 1), ('discoveri', 1), ('sourc', 1), ('statement', 1), ('error', 1), ('attempt', 1), ('object', 1), ('advoc', 1), ('interrupt', 1), ('scheme', 1), ('set', 1), ('charact', 1), ('indirect', 1), ('address', 1)]\n",
      "2217 [('learn', 12), ('.', 11), ('program', 10), ('data', 5), ('experi', 4), ('automat', 4), ('gener', 4), ('domain', 4), ('multipl', 3), ('(', 3), (')', 3), ('-', 3), (',', 3), ('prove', 3), ('pp', 3), ('function', 3), ('collect', 3), ('problem', 3), ('multipurpos', 2), ('heurist', 2), ('search', 2), ('predic', 2), ('calculu', 2), ('evalu', 2), ('featur', 2), ('regress', 2), ('produc', 2), ('result', 2), ('perform', 2), ('test', 2), ('improv', 2), ('capabl', 1), ('develop', 1), ('implement', 1), ('tree', 1), ('present', 1), ('appli', 1), ('resolut', 1), ('theorem', 1), (\"'\", 1), ('guid', 1), ('proof', 1), ('goal', 1), ('achiev', 1), ('thirteen', 1), ('claus', 1), ('creat', 1), ('optim', 1), ('coeffici', 1), ('linear', 1), ('polynomi', 1), ('term', 1), ('handl', 1), ('routin', 1), ('written', 1), ('pass', 1), ('analyz', 1), ('summar', 1), ('analysi', 1), ('number', 1), ('effect', 1), ('show', 1), ('dramat', 1), ('solut', 1), ('shown', 1), ('success', 1), ('demonstr', 1), ('simultan', 1), ('specif', 1), ('varieti', 1), ('variat', 1)]\n",
      "2605 [('.', 4), ('comput', 3), ('number', 3), ('problem', 3), ('precis', 2), ('numer', 2), ('analysi', 2), ('program', 2), (',', 2), ('interv', 2), ('arithmet', 2), ('descript', 1), ('solut', 1), ('small', 1), ('standard', 1), ('accuraci', 1), ('limit', 1), ('2000', 1), ('correct', 1), ('decim', 1), ('place', 1), ('bound', 1), ('multipl', 1), ('midpoint', 1), ('oper', 1), ('involv', 1), ('execut', 1), ('accord', 1), ('concept', 1), ('non', 1), ('-', 1), ('signific', 1), ('digit', 1), ('discard', 1), ('detail', 1), ('suppli', 1), ('specif', 1)]\n",
      "1050 [('part', 2), ('breakdown', 2), ('techniqu', 2), ('list', 2), ('structur', 2), ('.', 2), ('propos', 1), ('discuss', 1), ('implement', 1), ('fact', 1), ('present', 1), ('oper', 1), ('program', 1)]\n",
      "3128 [('.', 6), (',', 5), ('eventcount', 4), ('control', 4), ('order', 4), ('mechan', 4), ('synchron', 3), ('sequenc', 3), ('process', 3), ('event', 3), ('system', 3), ('protect', 2), ('share', 2), ('simplifi', 2), ('implement', 2), ('concurr', 1), ('requir', 1), ('rel', 1), ('propos', 1), ('abstract', 1), ('object', 1), ('call', 1), ('directli', 1), ('mutual', 1), ('exclus', 1), ('manipul', 1), ('variabl', 1), ('direct', 1), ('correct', 1), ('argument', 1), ('distribut', 1), ('defin', 1), ('formal', 1), ('exampl', 1), ('relationship', 1), ('explain', 1), (';', 1), ('shown', 1), ('applic', 1), ('situat', 1), ('confin', 1), ('inform', 1), ('matter', 1), ('memori', 1)]\n",
      "373 [('correl', 1), ('coeffici', 1), ('matrix', 1), ('multipl', 1), ('(', 1), ('algorithm', 1), ('39', 1), (')', 1)]\n",
      "\n",
      "Res Dictionary\n",
      "{'71': 11, '2217': 10, '2605': 2, '1050': 1, '3128': 0, '373': 0}\n"
     ]
    }
   ],
   "source": [
    "temp_query = q_12_2\n",
    "temp_dh = dh_12_2\n",
    "temp_docs_by_id = docs_12_2_by_id\n",
    "\n",
    "#############################################################\n",
    "temp_query_preprocessed = temp_dh.preprocess_query(temp_query)\n",
    "print(f\"Preprocessed Query: {temp_query_preprocessed}\\n\")\n",
    "\n",
    "word_count_dict = {}\n",
    "res_dict = {}\n",
    "\n",
    "for temp_doc_id, temp_doc in temp_docs_by_id.items():\n",
    "    res_dict[temp_doc_id] = 0\n",
    "    temp_doc_preprocessed = temp_dh.preprocess_query(temp_doc)\n",
    "\n",
    "    word_count_dict[temp_doc_id] = {}\n",
    "\n",
    "    for token in temp_doc_preprocessed:\n",
    "        token_lower = token.lower()\n",
    "\n",
    "        if token_lower in word_count_dict[temp_doc_id]:\n",
    "            word_count_dict[temp_doc_id][token_lower] += 1\n",
    "        else:\n",
    "            word_count_dict[temp_doc_id][token_lower] = 1\n",
    "\n",
    "        if token_lower in temp_query_preprocessed:\n",
    "            res_dict[temp_doc_id] += 1\n",
    "\n",
    "word_count_dict = {\n",
    "    doc_id: sorted(freqs.items(), key=lambda item: item[1], reverse=True)\n",
    "    for doc_id, freqs in word_count_dict.items()\n",
    "}\n",
    "print(\"Word Count Dictionary\")\n",
    "for doc_id, freqs in word_count_dict.items():\n",
    "    print(doc_id, freqs)\n",
    "\n",
    "print(\"\\nRes Dictionary\")\n",
    "print(res_dict)"
   ]
  },
  {
   "cell_type": "markdown",
   "metadata": {},
   "source": [
    "The rankings as returned by each ranking method can be seen below:"
   ]
  },
  {
   "cell_type": "code",
   "execution_count": 23,
   "metadata": {},
   "outputs": [
    {
     "name": "stdout",
     "output_type": "stream",
     "text": [
      "> count_idf_search Results:\n",
      "Rank 0 (score: 4.5, doc_id: 71): Proposal for a Feasible Programming System\\nThis p...\n",
      "Rank 1 (score: 4.1, doc_id: 2217): Experiments in Automatic Learning for a Multipurpo...\n",
      "Rank 2 (score: 0.81, doc_id: 2605): A Precise Numerical Analysis Program\\nA descriptio...\n",
      "Rank 3 (score: 0.41, doc_id: 1050): A Parts Breakdown Technique Using List Structures\\...\n",
      "\n",
      "> log_normalization_idf_search Results:\n",
      "Rank 0 (score: 1.0, doc_id: 71): Proposal for a Feasible Programming System\\nThis p...\n",
      "Rank 1 (score: 0.97, doc_id: 2217): Experiments in Automatic Learning for a Multipurpo...\n",
      "Rank 2 (score: 0.45, doc_id: 2605): A Precise Numerical Analysis Program\\nA descriptio...\n",
      "Rank 3 (score: 0.28, doc_id: 1050): A Parts Breakdown Technique Using List Structures\\...\n",
      "\n",
      "> double_normalization_idf_search Results:\n",
      "Rank 0 (score: 0.41, doc_id: 71): Proposal for a Feasible Programming System\\nThis p...\n",
      "Rank 1 (score: 0.37, doc_id: 2217): Experiments in Automatic Learning for a Multipurpo...\n",
      "Rank 2 (score: 0.3, doc_id: 2605): A Precise Numerical Analysis Program\\nA descriptio...\n",
      "Rank 3 (score: 0.3, doc_id: 1050): A Parts Breakdown Technique Using List Structures\\...\n"
     ]
    }
   ],
   "source": [
    "#### Function check\n",
    "count_idf_results = count_idf_search(q_12_2, dh_12_2)\n",
    "print(f\"> count_idf_search Results:\")\n",
    "print_results(count_idf_results, docs_12_2_by_id)\n",
    "\n",
    "print()\n",
    "log_norm_idf_results = log_normalization_idf_search(q_12_2, dh_12_2)\n",
    "print(f\"> log_normalization_idf_search Results:\")\n",
    "print_results(log_norm_idf_results, docs_12_2_by_id)\n",
    "\n",
    "print()\n",
    "double_norm_idf_results = double_normalization_idf_search(q_12_2, dh_12_2)\n",
    "print(f\"> double_normalization_idf_search Results:\")\n",
    "print_results(double_norm_idf_results, docs_12_2_by_id)"
   ]
  },
  {
   "cell_type": "markdown",
   "metadata": {},
   "source": [
    "*<font color='red'>Question WCI 2:</font>*\n",
    "\n",
    "- What is the term frequency of each query term? What is the difference of the term-frequency of the `program` word between documents '71' and '2217', and what is the same tf difference between documents '2217' and '2606'? Is it the same or different? \n",
    "- Does the ranking score difference of the respective documents change proportionally or is it irrelevant? \n",
    "- Does the difference of ranking scores depend on the absolute term frequency values for each ranking method? \n",
    "- Is the behavior similar for each method, and explain why it is the same/different?"
   ]
  },
  {
   "cell_type": "markdown",
   "metadata": {},
   "source": [
    "*<font color='yellow'>Answer WCI 2: Please move the answer to your LaTeX report, which must be submitted as a compiled PDF via Canvas.</font>*\n",
    "\n",
    "**Answer:**  \n",
    "\n",
    "The term frequency of \"program\" is 11 (DOC_ID 71), 10 (2217), 2 (2605), and 1 (1050). The differences are 1 (71 vs. 2217) and 8 (2217 vs. 2605). Score differences don’t scale proportionally with frequency differences, and absolute term frequency influences results differently across methods. `count_idf_search` follows raw frequency, `log_normalization_idf_search` applies a log scale to reduce large frequencies, and `double_normalization_idf_search` normalizes by the max term frequency, reducing absolute frequency effects.\n"
   ]
  },
  {
   "cell_type": "markdown",
   "metadata": {},
   "source": [
    "##### 1.2.3 - ARC - Word Count Importance 3 (WCI)"
   ]
  },
  {
   "cell_type": "markdown",
   "metadata": {},
   "source": [
    "We keep the same example as above, but we now add an extension text at the end of each document in our customized dataset. Case `WCI-3`:"
   ]
  },
  {
   "cell_type": "code",
   "execution_count": 24,
   "metadata": {},
   "outputs": [],
   "source": [
    "import copy\n",
    "\n",
    "# Define the example ground truth we will be working with\n",
    "q_12_3 = q_12_2\n",
    "\n",
    "# we assume we have only 9 documents in our whole datasetfor the query above their qrels below have the first 5 documents as relevant and the last 5 as irrelevant documents.\n",
    "qrels_12_3 = copy.deepcopy(qrels_12_2)\n",
    "irrelevant_documents_12_3 = copy.deepcopy(irrelevant_documents_12_2)\n",
    "docs_12_3_ids = [\n",
    "    *qrels_12_2,\n",
    "    *irrelevant_documents_12_3,\n",
    "]  # all the documents are just the intersection of the relevant and irrelevant for the query documents\n",
    "docs_12_3 = get_docs(docs_12_3_ids)\n",
    "\n",
    "text_extension = \"\"\"\n",
    "Amsterdam, a city of dreams so grand,\n",
    "Canals like ribbons across the land.\n",
    "Tulips bloom in colors bright,\n",
    "Underneath soft, starry night.\n",
    "\n",
    "Bicycles whirring on cobbled streets,\n",
    "Histories told by every beat.\n",
    "Anne Frank's courage, tales of old,\n",
    "In Amsterdam's story, they unfold.\n",
    "\n",
    "Art and culture, a vibrant scene,\n",
    "Rembrandt's masterpieces, evergreen.\n",
    "Coffee shops and markets thrive,\n",
    "In Amsterdam's heart, adventure's alive.\n",
    "\n",
    "From Dam Square's hustle to peaceful Vondelpark,\n",
    "Amsterdam's beauty leaves a lasting mark.\n",
    "A city of freedom, open and free,\n",
    "Amsterdam's charm captures all who see.\n",
    "\"\"\"\n",
    "\n",
    "# Add the text extension at the end of each text.\n",
    "for i in range(len(docs_12_3)):\n",
    "    docs_12_3[i] = (docs_12_3[i][0], docs_12_3[i][1] + text_extension)\n",
    "docs_12_3_by_id = dict(docs_12_3)\n",
    "\n",
    "dh_12_3 = get_dataset(docs_12_3, stopwords)"
   ]
  },
  {
   "cell_type": "code",
   "execution_count": 25,
   "metadata": {},
   "outputs": [
    {
     "name": "stdout",
     "output_type": "stream",
     "text": [
      "Preprocessed Query: ['program']\n",
      "\n",
      "Word Count Dictionary\n",
      "71 [(',', 20), ('.', 14), ('program', 11), (\"'\", 9), ('amsterdam', 5), ('facil', 3), ('comput', 3), ('-', 3), ('construct', 3), ('propos', 2), ('system', 2), ('prepar', 2), ('larg', 2), ('characterist', 2), ('assumpt', 2), ('citi', 2), ('feasibl', 1), ('paper', 1), ('design', 1), ('(', 1), ('involv', 1), ('digit', 1), (')', 1), ('assist', 1), ('scale', 1), ('real', 1), ('time', 1), ('capabl', 1), ('varieti', 1), ('machin', 1), ('similar', 1), ('basic', 1), ('random', 1), ('access', 1), ('storag', 1), ('avoid', 1), ('necess', 1), ('segment', 1), ('fashion', 1), ('trivial', 1), ('unrealist', 1), ('intend', 1), ('provid', 1), ('opportun', 1), ('concentr', 1), ('aspect', 1), ('stress', 1), ('discoveri', 1), ('sourc', 1), ('statement', 1), ('error', 1), ('attempt', 1), ('object', 1), ('advoc', 1), ('interrupt', 1), ('scheme', 1), ('set', 1), ('charact', 1), ('indirect', 1), ('address', 1), ('dream', 1), ('grand', 1), ('canal', 1), ('ribbon', 1), ('land', 1), ('tulip', 1), ('bloom', 1), ('color', 1), ('bright', 1), ('underneath', 1), ('soft', 1), ('starri', 1), ('night', 1), ('bicycl', 1), ('whir', 1), ('cobbl', 1), ('street', 1), ('histori', 1), ('told', 1), ('beat', 1), ('ann', 1), ('frank', 1), ('courag', 1), ('tale', 1), ('stori', 1), ('unfold', 1), ('art', 1), ('cultur', 1), ('vibrant', 1), ('scene', 1), ('rembrandt', 1), ('masterpiec', 1), ('evergreen', 1), ('coffe', 1), ('shop', 1), ('market', 1), ('thrive', 1), ('heart', 1), ('adventur', 1), ('aliv', 1), ('dam', 1), ('squar', 1), ('hustl', 1), ('peac', 1), ('vondelpark', 1), ('beauti', 1), ('leav', 1), ('last', 1), ('mark', 1), ('freedom', 1), ('open', 1), ('free', 1), ('charm', 1), ('captur', 1)]\n",
      "2217 [(',', 19), ('.', 19), ('learn', 12), ('program', 10), (\"'\", 9), ('data', 5), ('amsterdam', 5), ('experi', 4), ('automat', 4), ('gener', 4), ('domain', 4), ('multipl', 3), ('(', 3), (')', 3), ('-', 3), ('prove', 3), ('pp', 3), ('function', 3), ('collect', 3), ('problem', 3), ('multipurpos', 2), ('heurist', 2), ('search', 2), ('predic', 2), ('calculu', 2), ('evalu', 2), ('featur', 2), ('regress', 2), ('produc', 2), ('result', 2), ('perform', 2), ('test', 2), ('improv', 2), ('citi', 2), ('capabl', 1), ('develop', 1), ('implement', 1), ('tree', 1), ('present', 1), ('appli', 1), ('resolut', 1), ('theorem', 1), ('guid', 1), ('proof', 1), ('goal', 1), ('achiev', 1), ('thirteen', 1), ('claus', 1), ('creat', 1), ('optim', 1), ('coeffici', 1), ('linear', 1), ('polynomi', 1), ('term', 1), ('handl', 1), ('routin', 1), ('written', 1), ('pass', 1), ('analyz', 1), ('summar', 1), ('analysi', 1), ('number', 1), ('effect', 1), ('show', 1), ('dramat', 1), ('solut', 1), ('shown', 1), ('success', 1), ('demonstr', 1), ('simultan', 1), ('specif', 1), ('varieti', 1), ('variat', 1), ('dream', 1), ('grand', 1), ('canal', 1), ('ribbon', 1), ('land', 1), ('tulip', 1), ('bloom', 1), ('color', 1), ('bright', 1), ('underneath', 1), ('soft', 1), ('starri', 1), ('night', 1), ('bicycl', 1), ('whir', 1), ('cobbl', 1), ('street', 1), ('histori', 1), ('told', 1), ('beat', 1), ('ann', 1), ('frank', 1), ('courag', 1), ('tale', 1), ('stori', 1), ('unfold', 1), ('art', 1), ('cultur', 1), ('vibrant', 1), ('scene', 1), ('rembrandt', 1), ('masterpiec', 1), ('evergreen', 1), ('coffe', 1), ('shop', 1), ('market', 1), ('thrive', 1), ('heart', 1), ('adventur', 1), ('aliv', 1), ('dam', 1), ('squar', 1), ('hustl', 1), ('peac', 1), ('vondelpark', 1), ('beauti', 1), ('leav', 1), ('last', 1), ('mark', 1), ('freedom', 1), ('open', 1), ('free', 1), ('charm', 1), ('captur', 1)]\n",
      "2605 [(',', 18), ('.', 12), (\"'\", 8), ('amsterdam', 5), ('comput', 3), ('number', 3), ('problem', 3), ('precis', 2), ('numer', 2), ('analysi', 2), ('program', 2), ('interv', 2), ('arithmet', 2), ('citi', 2), ('descript', 1), ('solut', 1), ('small', 1), ('standard', 1), ('accuraci', 1), ('limit', 1), ('2000', 1), ('correct', 1), ('decim', 1), ('place', 1), ('bound', 1), ('multipl', 1), ('midpoint', 1), ('oper', 1), ('involv', 1), ('execut', 1), ('accord', 1), ('concept', 1), ('non', 1), ('-', 1), ('signific', 1), ('digit', 1), ('discard', 1), ('detail', 1), ('suppli', 1), ('specif', 1), ('dream', 1), ('grand', 1), ('canal', 1), ('ribbon', 1), ('land', 1), ('tulip', 1), ('bloom', 1), ('color', 1), ('bright', 1), ('underneath', 1), ('soft', 1), ('starri', 1), ('night', 1), ('bicycl', 1), ('whir', 1), ('cobbl', 1), ('street', 1), ('histori', 1), ('told', 1), ('beat', 1), ('ann', 1), ('frank', 1), ('courag', 1), ('tale', 1), ('stori', 1), ('unfold', 1), ('art', 1), ('cultur', 1), ('vibrant', 1), ('scene', 1), ('rembrandt', 1), ('masterpiec', 1), ('evergreen', 1), ('coffe', 1), ('shop', 1), ('market', 1), ('thrive', 1), ('heart', 1), ('adventur', 1), ('aliv', 1), ('dam', 1), ('squar', 1), ('hustl', 1), ('peac', 1), ('vondelpark', 1), ('beauti', 1), ('leav', 1), ('last', 1), ('mark', 1), ('freedom', 1), ('open', 1), ('free', 1), ('charm', 1), ('captur', 1)]\n",
      "1050 [(',', 16), ('.', 10), (\"'\", 8), ('amsterdam', 5), ('part', 2), ('breakdown', 2), ('techniqu', 2), ('list', 2), ('structur', 2), ('citi', 2), ('propos', 1), ('discuss', 1), ('implement', 1), ('fact', 1), ('present', 1), ('oper', 1), ('program', 1), ('dream', 1), ('grand', 1), ('canal', 1), ('ribbon', 1), ('land', 1), ('tulip', 1), ('bloom', 1), ('color', 1), ('bright', 1), ('underneath', 1), ('soft', 1), ('starri', 1), ('night', 1), ('bicycl', 1), ('whir', 1), ('cobbl', 1), ('street', 1), ('histori', 1), ('told', 1), ('beat', 1), ('ann', 1), ('frank', 1), ('courag', 1), ('tale', 1), ('stori', 1), ('unfold', 1), ('art', 1), ('cultur', 1), ('vibrant', 1), ('scene', 1), ('rembrandt', 1), ('masterpiec', 1), ('evergreen', 1), ('coffe', 1), ('shop', 1), ('market', 1), ('thrive', 1), ('heart', 1), ('adventur', 1), ('aliv', 1), ('dam', 1), ('squar', 1), ('hustl', 1), ('peac', 1), ('vondelpark', 1), ('beauti', 1), ('leav', 1), ('last', 1), ('mark', 1), ('freedom', 1), ('open', 1), ('free', 1), ('charm', 1), ('captur', 1)]\n",
      "3128 [(',', 21), ('.', 14), (\"'\", 8), ('amsterdam', 5), ('eventcount', 4), ('control', 4), ('order', 4), ('mechan', 4), ('synchron', 3), ('sequenc', 3), ('process', 3), ('event', 3), ('system', 3), ('protect', 2), ('share', 2), ('simplifi', 2), ('implement', 2), ('citi', 2), ('concurr', 1), ('requir', 1), ('rel', 1), ('propos', 1), ('abstract', 1), ('object', 1), ('call', 1), ('directli', 1), ('mutual', 1), ('exclus', 1), ('manipul', 1), ('variabl', 1), ('direct', 1), ('correct', 1), ('argument', 1), ('distribut', 1), ('defin', 1), ('formal', 1), ('exampl', 1), ('relationship', 1), ('explain', 1), (';', 1), ('shown', 1), ('applic', 1), ('situat', 1), ('confin', 1), ('inform', 1), ('matter', 1), ('memori', 1), ('dream', 1), ('grand', 1), ('canal', 1), ('ribbon', 1), ('land', 1), ('tulip', 1), ('bloom', 1), ('color', 1), ('bright', 1), ('underneath', 1), ('soft', 1), ('starri', 1), ('night', 1), ('bicycl', 1), ('whir', 1), ('cobbl', 1), ('street', 1), ('histori', 1), ('told', 1), ('beat', 1), ('ann', 1), ('frank', 1), ('courag', 1), ('tale', 1), ('stori', 1), ('unfold', 1), ('art', 1), ('cultur', 1), ('vibrant', 1), ('scene', 1), ('rembrandt', 1), ('masterpiec', 1), ('evergreen', 1), ('coffe', 1), ('shop', 1), ('market', 1), ('thrive', 1), ('heart', 1), ('adventur', 1), ('aliv', 1), ('dam', 1), ('squar', 1), ('hustl', 1), ('peac', 1), ('vondelpark', 1), ('beauti', 1), ('leav', 1), ('last', 1), ('mark', 1), ('freedom', 1), ('open', 1), ('free', 1), ('charm', 1), ('captur', 1)]\n",
      "373 [(',', 16), ('.', 8), (\"'\", 8), ('amsterdam', 5), ('citi', 2), ('correl', 1), ('coeffici', 1), ('matrix', 1), ('multipl', 1), ('(', 1), ('algorithm', 1), ('39', 1), (')', 1), ('dream', 1), ('grand', 1), ('canal', 1), ('ribbon', 1), ('land', 1), ('tulip', 1), ('bloom', 1), ('color', 1), ('bright', 1), ('underneath', 1), ('soft', 1), ('starri', 1), ('night', 1), ('bicycl', 1), ('whir', 1), ('cobbl', 1), ('street', 1), ('histori', 1), ('told', 1), ('beat', 1), ('ann', 1), ('frank', 1), ('courag', 1), ('tale', 1), ('stori', 1), ('unfold', 1), ('art', 1), ('cultur', 1), ('vibrant', 1), ('scene', 1), ('rembrandt', 1), ('masterpiec', 1), ('evergreen', 1), ('coffe', 1), ('shop', 1), ('market', 1), ('thrive', 1), ('heart', 1), ('adventur', 1), ('aliv', 1), ('dam', 1), ('squar', 1), ('hustl', 1), ('peac', 1), ('vondelpark', 1), ('beauti', 1), ('leav', 1), ('last', 1), ('mark', 1), ('freedom', 1), ('open', 1), ('free', 1), ('charm', 1), ('captur', 1)]\n",
      "\n",
      "Res Dictionary\n",
      "{'71': 11, '2217': 10, '2605': 2, '1050': 1, '3128': 0, '373': 0}\n"
     ]
    }
   ],
   "source": [
    "temp_query = q_12_3\n",
    "temp_dh = dh_12_3\n",
    "temp_docs_by_id = docs_12_3_by_id\n",
    "\n",
    "#############################################################\n",
    "temp_query_preprocessed = temp_dh.preprocess_query(temp_query)\n",
    "print(f\"Preprocessed Query: {temp_query_preprocessed}\\n\")\n",
    "\n",
    "word_count_dict = {}\n",
    "res_dict = {}\n",
    "\n",
    "for temp_doc_id, temp_doc in temp_docs_by_id.items():\n",
    "    res_dict[temp_doc_id] = 0\n",
    "    temp_doc_preprocessed = temp_dh.preprocess_query(temp_doc)\n",
    "\n",
    "    word_count_dict[temp_doc_id] = {}\n",
    "\n",
    "    for token in temp_doc_preprocessed:\n",
    "        token_lower = token.lower()\n",
    "\n",
    "        if token_lower in word_count_dict[temp_doc_id]:\n",
    "            word_count_dict[temp_doc_id][token_lower] += 1\n",
    "        else:\n",
    "            word_count_dict[temp_doc_id][token_lower] = 1\n",
    "\n",
    "        if token_lower in temp_query_preprocessed:\n",
    "            res_dict[temp_doc_id] += 1\n",
    "\n",
    "word_count_dict = {\n",
    "    doc_id: sorted(freqs.items(), key=lambda item: item[1], reverse=True)\n",
    "    for doc_id, freqs in word_count_dict.items()\n",
    "}\n",
    "print(\"Word Count Dictionary\")\n",
    "for doc_id, freqs in word_count_dict.items():\n",
    "    print(doc_id, freqs)\n",
    "\n",
    "print(\"\\nRes Dictionary\")\n",
    "print(res_dict)"
   ]
  },
  {
   "cell_type": "markdown",
   "metadata": {},
   "source": [
    "We now re-evaluate our ranking methods."
   ]
  },
  {
   "cell_type": "code",
   "execution_count": 26,
   "metadata": {},
   "outputs": [
    {
     "name": "stdout",
     "output_type": "stream",
     "text": [
      "> count_idf_search Results:\n",
      "Rank 0 (score: 4.5, doc_id: 71): Proposal for a Feasible Programming System\\nThis p...\n",
      "Rank 1 (score: 4.1, doc_id: 2217): Experiments in Automatic Learning for a Multipurpo...\n",
      "Rank 2 (score: 0.81, doc_id: 2605): A Precise Numerical Analysis Program\\nA descriptio...\n",
      "Rank 3 (score: 0.41, doc_id: 1050): A Parts Breakdown Technique Using List Structures\\...\n",
      "\n",
      "> log_normalization_idf_search Results:\n",
      "Rank 0 (score: 1.0, doc_id: 71): Proposal for a Feasible Programming System\\nThis p...\n",
      "Rank 1 (score: 0.97, doc_id: 2217): Experiments in Automatic Learning for a Multipurpo...\n",
      "Rank 2 (score: 0.45, doc_id: 2605): A Precise Numerical Analysis Program\\nA descriptio...\n",
      "Rank 3 (score: 0.28, doc_id: 1050): A Parts Breakdown Technique Using List Structures\\...\n",
      "\n",
      "> double_normalization_idf_search Results:\n",
      "Rank 0 (score: 0.31, doc_id: 71): Proposal for a Feasible Programming System\\nThis p...\n",
      "Rank 1 (score: 0.31, doc_id: 2217): Experiments in Automatic Learning for a Multipurpo...\n",
      "Rank 2 (score: 0.23, doc_id: 2605): A Precise Numerical Analysis Program\\nA descriptio...\n",
      "Rank 3 (score: 0.22, doc_id: 1050): A Parts Breakdown Technique Using List Structures\\...\n"
     ]
    }
   ],
   "source": [
    "#### Function check\n",
    "count_idf_results = count_idf_search(q_12_3, dh_12_3)\n",
    "print(f\"> count_idf_search Results:\")\n",
    "print_results(count_idf_results, docs_12_3_by_id)\n",
    "\n",
    "print()\n",
    "log_norm_idf_results = log_normalization_idf_search(q_12_3, dh_12_3)\n",
    "print(f\"> log_normalization_idf_search Results:\")\n",
    "print_results(log_norm_idf_results, docs_12_3_by_id)\n",
    "\n",
    "print()\n",
    "double_norm_idf_results = double_normalization_idf_search(q_12_3, dh_12_3)\n",
    "print(f\"> double_normalization_idf_search Results:\")\n",
    "print_results(double_norm_idf_results, docs_12_3_by_id)"
   ]
  },
  {
   "cell_type": "markdown",
   "metadata": {},
   "source": [
    "*<font color='red'>Question WCI 3:</font>*\n",
    "\n",
    "Based on this change of adding a new text at the end of each document. Do the ranking scores drop, remain the same or increase for each ranking method? Why is that?"
   ]
  },
  {
   "cell_type": "markdown",
   "metadata": {},
   "source": [
    "*<font color='yellow'>Answer WCI 3: Please move the answer to your LaTeX report, which must be submitted as a compiled PDF via Canvas.</font>*\n",
    "\n",
    "**Answer:**\n",
    "\n",
    "The ranking scores remain unchanged for `count_idf_search` and `log_normalization_idf_search` because they depend solely on the term frequency of the query tokens, which remains constant. However, `double_normalization_idf_search` scores decrease since the added text increases the frequency of non-query tokens, raising the denominator in the formula. The extended text introduces more punctuation tokens, which dilutes the impact of the query term frequency, resulting in lower scores for all documents."
   ]
  },
  {
   "cell_type": "markdown",
   "metadata": {},
   "source": [
    "##### 1.2.4 - Ranking Method Analysis 4 - Conclusion"
   ]
  },
  {
   "cell_type": "markdown",
   "metadata": {},
   "source": [
    "In this section we evaluate the three tf-idf ranking methods we have to the dataset we used previously. Below you can see the code, and in the last code block the evaluation results."
   ]
  },
  {
   "cell_type": "code",
   "execution_count": 27,
   "metadata": {},
   "outputs": [],
   "source": [
    "docs = read_cacm_docs()\n",
    "stopwords = load_stopwords()\n",
    "queries = read_queries()\n",
    "qrels = read_qrels()"
   ]
  },
  {
   "cell_type": "code",
   "execution_count": 28,
   "metadata": {},
   "outputs": [],
   "source": [
    "dh = get_dataset(docs, stopwords)\n",
    "dh.docs_by_id = dict(docs)\n",
    "dh.doc_rep_dict = dict(dh.doc_rep)"
   ]
  },
  {
   "cell_type": "code",
   "execution_count": 29,
   "metadata": {},
   "outputs": [],
   "source": [
    "list_of_metrics = [(\"RECALL@100\", partial(recall_k, k=100)), (\"MAP\", average_precision)]"
   ]
  },
  {
   "cell_type": "code",
   "execution_count": 30,
   "metadata": {},
   "outputs": [],
   "source": [
    "list_of_search_fns = [\n",
    "    (\"count_idf_search\", count_idf_search),\n",
    "    (\"log_normalization_idf_search\", log_normalization_idf_search),\n",
    "    (\"double_normalization_idf_search\", double_normalization_idf_search),\n",
    "]"
   ]
  },
  {
   "cell_type": "code",
   "execution_count": 31,
   "metadata": {},
   "outputs": [
    {
     "name": "stdout",
     "output_type": "stream",
     "text": [
      "\tEvaluating Search Function: count_idf_search\n",
      "\t\tMetric: RECALL@100: 0.4715\n",
      "\t\tMetric: MAP: 0.1824\n",
      "\n",
      "\tEvaluating Search Function: log_normalization_idf_search\n",
      "\t\tMetric: RECALL@100: 0.5530\n",
      "\t\tMetric: MAP: 0.2848\n",
      "\n",
      "\tEvaluating Search Function: double_normalization_idf_search\n",
      "\t\tMetric: RECALL@100: 0.5781\n",
      "\t\tMetric: MAP: 0.3136\n",
      "\n"
     ]
    }
   ],
   "source": [
    "from modules.evaluation import evaluate_search_fn\n",
    "\n",
    "results = {}\n",
    "index_sets = {1, 2}\n",
    "\n",
    "results = {}\n",
    "for search_fn_name, search_fn in list_of_search_fns:\n",
    "    print(f\"\\tEvaluating Search Function: {search_fn_name}\")\n",
    "    results[search_fn_name] = evaluate_search_fn(\n",
    "        search_fn_name, search_fn, list_of_metrics, dh, queries, qrels\n",
    "    )\n",
    "    for metric_name, metric_val in results[search_fn_name].items():\n",
    "        print(f\"\\t\\tMetric: {metric_name}: {metric_val:0.4f}\")\n",
    "    print()"
   ]
  },
  {
   "cell_type": "markdown",
   "metadata": {},
   "source": [
    "*<font color='red'>Question WCI 4:</font>*\n",
    "\n",
    "Based on the Analysis in the three previous subsections and the results above, which `tf-idf` method is better generally? (Explain)"
   ]
  },
  {
   "cell_type": "markdown",
   "metadata": {},
   "source": [
    "The double normalization tf-idf method performs best, achieving the highest recall (0.5781) and MAP (0.3136). It balances term frequency effectively, ranking more relevant documents higher than log normalization (0.5530) and count-based tf-idf (0.4715). This is because double normalization adjusts for frequent terms, reducing bias from document length. Unlike the other methods, it remains sensitive to content structure, ensuring better performance when documents are extended with irrelevant text, as shown in the previous experiments."
   ]
  },
  {
   "cell_type": "markdown",
   "metadata": {},
   "source": [
    "### 2. Advantages & Disadvantages of Approaches\n",
    "In the final section of this analysis, we will compare the different term-based IR algorithms and different preprocessing configurations and analyze their advantages and disadvantages."
   ]
  },
  {
   "cell_type": "code",
   "execution_count": 32,
   "metadata": {},
   "outputs": [],
   "source": [
    "docs = read_cacm_docs()\n",
    "docs_by_id = dict(docs)\n",
    "queries = read_queries()\n",
    "qrels = read_qrels()\n",
    "stopwords = load_stopwords()\n",
    "n_docs = len(docs)"
   ]
  },
  {
   "cell_type": "code",
   "execution_count": 33,
   "metadata": {},
   "outputs": [],
   "source": [
    "config_1 = {\"stem\": False, \"remove_stopwords\": False, \"lowercase_text\": True}\n",
    "\n",
    "\n",
    "# In this configuration:\n",
    "# Preprocess the text, stem and remove stopwords\n",
    "config_2 = {\n",
    "    \"stem\": True,\n",
    "    \"remove_stopwords\": True,\n",
    "    \"lowercase_text\": True,\n",
    "}\n",
    "\n",
    "####\n",
    "doc_repr_1 = []\n",
    "doc_repr_2 = []\n",
    "for doc_id, document in docs:\n",
    "    doc_repr_1.append((doc_id, process_text(document, stopwords, **config_1)))\n",
    "    doc_repr_2.append((doc_id, process_text(document, stopwords, **config_2)))"
   ]
  },
  {
   "cell_type": "code",
   "execution_count": 34,
   "metadata": {},
   "outputs": [],
   "source": [
    "df_1 = compute_df([d[1] for d in doc_repr_1])\n",
    "df_2 = compute_df([d[1] for d in doc_repr_2])"
   ]
  },
  {
   "cell_type": "code",
   "execution_count": 35,
   "metadata": {},
   "outputs": [],
   "source": [
    "tf_index_1 = build_tf_index(doc_repr_1)\n",
    "tf_index_2 = build_tf_index(doc_repr_2)"
   ]
  },
  {
   "cell_type": "code",
   "execution_count": 36,
   "metadata": {},
   "outputs": [],
   "source": [
    "dh1 = Dataset(n_docs, docs_by_id, doc_repr_1, df_1, tf_index_1, stopwords, config_1)\n",
    "dh2 = Dataset(n_docs, docs_by_id, doc_repr_2, df_2, tf_index_2, stopwords, config_2)"
   ]
  },
  {
   "cell_type": "code",
   "execution_count": 37,
   "metadata": {},
   "outputs": [],
   "source": [
    "#### Evaluate a search function\n",
    "\n",
    "list_of_search_fns = [\n",
    "    (\"TF-IDF\", tfidf_search),\n",
    "    (\"NaiveQL\", naive_ql_search),\n",
    "    (\"QL\", ql_search),\n",
    "    (\"BM25\", bm25_search),\n",
    "]\n",
    "\n",
    "from modules.evaluation import evaluate_search_fn"
   ]
  },
  {
   "cell_type": "code",
   "execution_count": 38,
   "metadata": {},
   "outputs": [],
   "source": [
    "from functools import partial\n",
    "\n",
    "list_of_metrics = [(\"RECALL@100\", partial(recall_k, k=100)), (\"MAP\", average_precision)]"
   ]
  },
  {
   "cell_type": "markdown",
   "metadata": {},
   "source": [
    "\n",
    "First, gather the results. The results should consider the index set, the different search functions and different metrics. Next cell plots the results in bar charts, per metric, with clear labels.\n",
    "\n",
    "**IMPORTANT:** *Make sure to run the following cell to loop over different search functions and run `evaluate_search_fn`. This saves the output of your runs, e.g. `BM25_1.trec`, etc.*"
   ]
  },
  {
   "cell_type": "code",
   "execution_count": 39,
   "metadata": {},
   "outputs": [
    {
     "name": "stdout",
     "output_type": "stream",
     "text": [
      "Index: 1\n",
      "\tEvaluating Search Function: TF-IDF\n",
      "\t\tMetric: RECALL@100: 0.4682\n",
      "\t\tMetric: MAP: 0.1919\n",
      "\n",
      "\tEvaluating Search Function: NaiveQL\n",
      "\t\tMetric: RECALL@100: 0.0195\n",
      "\t\tMetric: MAP: 0.0062\n",
      "\n",
      "\tEvaluating Search Function: QL\n",
      "\t\tMetric: RECALL@100: 0.4777\n",
      "\t\tMetric: MAP: 0.1735\n",
      "\n",
      "\tEvaluating Search Function: BM25\n",
      "\t\tMetric: RECALL@100: 0.5426\n",
      "\t\tMetric: MAP: 0.2383\n",
      "\n",
      "Index: 2\n",
      "\tEvaluating Search Function: TF-IDF\n",
      "\t\tMetric: RECALL@100: 0.5530\n",
      "\t\tMetric: MAP: 0.2848\n",
      "\n",
      "\tEvaluating Search Function: NaiveQL\n",
      "\t\tMetric: RECALL@100: 0.0194\n",
      "\t\tMetric: MAP: 0.0063\n",
      "\n",
      "\tEvaluating Search Function: QL\n",
      "\t\tMetric: RECALL@100: 0.5595\n",
      "\t\tMetric: MAP: 0.2648\n",
      "\n",
      "\tEvaluating Search Function: BM25\n",
      "\t\tMetric: RECALL@100: 0.6260\n",
      "\t\tMetric: MAP: 0.3302\n",
      "\n"
     ]
    },
    {
     "data": {
      "image/png": "[encoded data removed]",
      "text/plain": [
       "<Figure size 1000x1600 with 2 Axes>"
      ]
     },
     "metadata": {},
     "output_type": "display_data"
    },
    {
     "data": {
      "image/png": "[encoded data removed]",
      "text/plain": [
       "<Figure size 1000x1600 with 2 Axes>"
      ]
     },
     "metadata": {},
     "output_type": "display_data"
    }
   ],
   "source": [
    "results = {}\n",
    "index_sets = {1: dh1, 2: dh2}\n",
    "\n",
    "for index_set, dh in index_sets.items():\n",
    "    results[index_set] = {}\n",
    "    print(f\"Index: {index_set}\")\n",
    "    for search_fn_name, search_fn in list_of_search_fns:\n",
    "        print(f\"\\tEvaluating Search Function: {search_fn_name}\")\n",
    "        results[index_set][search_fn_name] = evaluate_search_fn(\n",
    "            search_fn_name, search_fn, list_of_metrics, dh, queries, qrels, index_set\n",
    "        )\n",
    "        for metric_name, metric_val in results[index_set][search_fn_name].items():\n",
    "            print(f\"\\t\\tMetric: {metric_name}: {metric_val:0.4f}\")\n",
    "        print()\n",
    "\n",
    "\n",
    "def plot_metrics(search_fns):\n",
    "\n",
    "    fig, axes = plt.subplots(nrows=len(list_of_metrics), ncols=1)\n",
    "    fig.set_figheight(8 * len(list_of_metrics))\n",
    "    fig.set_figwidth(10)\n",
    "\n",
    "    for (metric, _), ax in zip(list_of_metrics, axes):\n",
    "        metrics = []\n",
    "        labels = []\n",
    "        for search_fn in search_fns:\n",
    "            metrics.append(search_fns[search_fn][metric])\n",
    "            labels.append(search_fn)\n",
    "\n",
    "        x = np.arange(len(labels))\n",
    "        rects = ax.bar(x, metrics, label=metric)\n",
    "\n",
    "        ax.set_xticks(x)\n",
    "        ax.set_xticklabels(labels, rotation=45)\n",
    "        ax.set_ylim(ymin=0, ymax=max(metrics) + 0.05)\n",
    "        ax.set_title(metric)\n",
    "\n",
    "\n",
    "plot_metrics(results[1])\n",
    "\n",
    "plot_metrics(results[2])"
   ]
  },
  {
   "cell_type": "markdown",
   "metadata": {},
   "source": [
    "---\n",
    "#### 2.2 Summary\n",
    "Write a summary of what you observe in the results.\n",
    "Your summary should compare results across the 2 indices and the methods being used. State what you expected to see in the results, followed by either supporting evidence *or* justify why the results did not support your expectations.\n",
    "\n",
    "**Submission format:**\n",
    "\n",
    "1. Your runtime evaluation results of the given list of metrics and search functions will be saved in separate files as follows (Make sure the contents of these files are as expected and not damaged due to any errors):\n",
    "\n",
    "2. You need to submit a concise report in LaTeX summarizing your findings, with a limit of 250 words. Submit your compiled PDF of the report via Canvas before the deadline, including a table of your results."
   ]
  },
  {
   "cell_type": "markdown",
   "metadata": {},
   "source": [
    "The analysis evaluates the performance of four Information Retrieval methods (TF-IDF, NaiveQL, QL, BM25) across two indices using RECALL@100 and MAP as evaluation metrics.\n",
    "\n",
    "BM25 consistently achieves the best performance, with RECALL@100 = 0.5426 and MAP = 0.2383 in Index 1, improving significantly in Index 2 to RECALL@100 = 0.6260 and MAP = 0.3302. This confirms BM25's expected effectiveness due to its probabilistic framework balancing term frequency and document length normalization.\n",
    "\n",
    "QL performs well, particularly in Index 2 (RECALL@100 = 0.5595, MAP = 0.2648), outperforming TF-IDF in both indices. TF-IDF shows a moderate performance, improving from RECALL@100 = 0.4682 and MAP = 0.1919 in Index 1 to RECALL@100 = 0.5530 and MAP = 0.2848 in Index 2. This suggests that the document distribution and preprocessing steps positively impacted TF-IDF's effectiveness in the second index.\n",
    "\n",
    "NaiveQL performed the worst across both indices, with minimal improvements between Index 1 (RECALL@100 = 0.0195, MAP = 0.0062) and Index 2 (RECALL@100 = 0.0194, MAP = 0.0063), as expected due to its lack of good term weighting mechanisms.\n",
    "\n",
    "The results align with expectations: BM25 consistently outperforms other methods, QL follows closely, particularly in Index 2, and TF-IDF improves with changes in preprocessing. NaiveQL's has low performance because of its simplistic approach's limitations. Overall, BM25 proved the most effective, with performance increases in Index 2, supporting the hypothesis that better preprocessing configurations improve retrieval effectiveness."
   ]
  },
  {
   "cell_type": "markdown",
   "metadata": {},
   "source": []
  }
 ],
 "metadata": {
  "kernelspec": {
   "display_name": "fact",
   "language": "python",
   "name": "python3"
  },
  "language_info": {
   "codemirror_mode": {
    "name": "ipython",
    "version": 3
   },
   "file_extension": ".py",
   "mimetype": "text/x-python",
   "name": "python",
   "nbconvert_exporter": "python",
   "pygments_lexer": "ipython3",
   "version": "3.12.8"
  },
  "orig_nbformat": 4
 },
 "nbformat": 4,
 "nbformat_minor": 2
}
