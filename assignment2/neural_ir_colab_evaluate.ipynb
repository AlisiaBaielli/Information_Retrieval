{
  "cells": [
    {
      "cell_type": "markdown",
      "metadata": {},
      "source": [
        "### Evaluate the models using `rank_dense.py`, `rank_sparse.py`, `rerank.py`"
      ]
    },
    {
      "cell_type": "markdown",
      "metadata": {},
      "source": [
        "#### Sparse"
      ]
    },
    {
      "cell_type": "code",
      "execution_count": null,
      "metadata": {},
      "outputs": [],
      "source": [
        "# # original data\n",
        "# !python -m neural_ir.rank_sparse --q \"data/dev_queries.tsv\" --checkpoint \"output/all_models_eval/sparse/model\" --o \"output/all_metrics_rank/sparse/test_run.trec\""
      ]
    },
    {
      "cell_type": "code",
      "execution_count": null,
      "metadata": {},
      "outputs": [],
      "source": [
        "# # contractions\n",
        "# !python -m neural_ir.rank_sparse --q \"corrupted_data/contractions/dev_queries.tsv\" --checkpoint \"output/all_models_eval/sparse/model\" --o \"output/all_metrics_rank/sparse/contractions_test_run.trec\""
      ]
    },
    {
      "cell_type": "code",
      "execution_count": null,
      "metadata": {},
      "outputs": [],
      "source": [
        "# # merged\n",
        "# !python -m neural_ir.rank_sparse --q \"corrupted_data/merged/dev_queries.tsv\" --checkpoint \"output/all_models_eval/sparse/model\" --o \"output/all_metrics_rank/sparse/merged_test_run.trec\""
      ]
    },
    {
      "cell_type": "code",
      "execution_count": null,
      "metadata": {},
      "outputs": [],
      "source": [
        "# # merged_typos\n",
        "# !python -m neural_ir.rank_sparse --q \"corrupted_data/merged_typos/dev_queries.tsv\" --checkpoint \"output/all_models_eval/sparse/model\" --o \"output/all_metrics_rank/sparse/merged_typos_test_run.trec\""
      ]
    },
    {
      "cell_type": "code",
      "execution_count": null,
      "metadata": {},
      "outputs": [],
      "source": [
        "# # typos\n",
        "# !python -m neural_ir.rank_sparse --q \"corrupted_data/typos/dev_queries.tsv\" --checkpoint \"output/all_models_eval/sparse/model\" --o \"output/all_metrics_rank/sparse/typos_test_run.trec\""
      ]
    },
    {
      "cell_type": "markdown",
      "metadata": {},
      "source": [
        "#### Dense"
      ]
    },
    {
      "cell_type": "code",
      "execution_count": null,
      "metadata": {},
      "outputs": [],
      "source": [
        "# # original data\n",
        "# !python -m neural_ir.rank_dense --q \"data/dev_queries.tsv\" --checkpoint \"output/all_models_eval/dense/model\" --o \"output/all_metrics_rank/dense/test_run.trec\""
      ]
    },
    {
      "cell_type": "code",
      "execution_count": null,
      "metadata": {},
      "outputs": [],
      "source": [
        "# # contractions\n",
        "# !python -m neural_ir.rank_dense --q \"corrupted_data/contractions/dev_queries.tsv\" --checkpoint \"output/all_models_eval/dense/model\" --o \"output/all_metrics_rank/dense/contractions_test_run.trec\""
      ]
    },
    {
      "cell_type": "code",
      "execution_count": null,
      "metadata": {},
      "outputs": [],
      "source": [
        "# # merged\n",
        "# !python -m neural_ir.rank_dense --q \"corrupted_data/merged/dev_queries.tsv\" --checkpoint \"output/all_models_eval/dense/model\" --o \"output/all_metrics_rank/dense/merged_test_run.trec\""
      ]
    },
    {
      "cell_type": "code",
      "execution_count": null,
      "metadata": {},
      "outputs": [],
      "source": [
        "# # merged_typos\n",
        "# !python -m neural_ir.rank_dense --q \"corrupted_data/merged_typos/dev_queries.tsv\" --checkpoint \"output/all_models_eval/dense/model\" --o \"output/all_metrics_rank/dense/merged_typos_test_run.trec\""
      ]
    },
    {
      "cell_type": "code",
      "execution_count": null,
      "metadata": {},
      "outputs": [],
      "source": [
        "# # typos\n",
        "# !python -m neural_ir.rank_dense --q \"corrupted_data/typos/dev_queries.tsv\" --checkpoint \"output/all_models_eval/dense/model\" --o \"output/all_metrics_rank/dense/typos_test_run.trec\""
      ]
    },
    {
      "cell_type": "markdown",
      "metadata": {},
      "source": [
        "#### CE"
      ]
    },
    {
      "cell_type": "code",
      "execution_count": null,
      "metadata": {},
      "outputs": [],
      "source": [
        "# # original data\n",
        "# !python -m neural_ir.rerank --q \"data/dev_queries.tsv\" --checkpoint \"output/all_models_eval/ce/model\" --run \"data/dev_bm25.trec\" --o \"output/all_metrics_rank/ce/test_run.trec\""
      ]
    },
    {
      "cell_type": "code",
      "execution_count": null,
      "metadata": {},
      "outputs": [],
      "source": [
        "# # contractions\n",
        "# !python -m neural_ir.rerank --q \"corrupted_data/contractions/dev_queries.tsv\" --checkpoint \"output/all_models_eval/ce/model\" --run \"data/dev_bm25.trec\" --o \"output/all_metrics_rank/ce/contractions_test_run.trec\""
      ]
    },
    {
      "cell_type": "code",
      "execution_count": null,
      "metadata": {},
      "outputs": [],
      "source": [
        "# # merged\n",
        "# !python -m neural_ir.rerank --q \"corrupted_data/merged/dev_queries.tsv\" --checkpoint \"output/all_models_eval/ce/model\" --run \"data/dev_bm25.trec\" --o \"output/all_metrics_rank/ce/merged_test_run.trec\""
      ]
    },
    {
      "cell_type": "code",
      "execution_count": null,
      "metadata": {},
      "outputs": [],
      "source": [
        "# # merged_typos\n",
        "# !python -m neural_ir.rerank --q \"corrupted_data/merged_typos/dev_queries.tsv\" --checkpoint \"output/all_models_eval/ce/model\" --run \"data/dev_bm25.trec\" --o \"output/all_metrics_rank/ce/merged_typos_test_run.trec\""
      ]
    },
    {
      "cell_type": "code",
      "execution_count": null,
      "metadata": {},
      "outputs": [],
      "source": [
        "# # typos\n",
        "# !python -m neural_ir.rerank --q \"corrupted_data/typos/dev_queries.tsv\" --checkpoint \"output/all_models_eval/ce/model\" --run \"data/dev_bm25.trec\" --o \"output/all_metrics_rank/ce/typos_test_run.trec\""
      ]
    },
    {
      "cell_type": "markdown",
      "metadata": {},
      "source": [
        "### Evaluate models using evaluate.py (dumped as they told us to use rank scripts on Ed)"
      ]
    },
    {
      "cell_type": "markdown",
      "metadata": {},
      "source": [
        "#### Original Dataset"
      ]
    },
    {
      "cell_type": "code",
      "execution_count": null,
      "metadata": {},
      "outputs": [],
      "source": [
        "# # ce\n",
        "# !python -m neural_ir.evaluate --pretrained \"output/all_models_eval/ce/model\" --output_dir \"output/original_data\" ce"
      ]
    },
    {
      "cell_type": "code",
      "execution_count": null,
      "metadata": {},
      "outputs": [],
      "source": [
        "# # dense\n",
        "# !python -m neural_ir.evaluate --pretrained \"output/all_models_eval/dense/model\" --output_dir \"output/original_data\" dense"
      ]
    },
    {
      "cell_type": "code",
      "execution_count": null,
      "metadata": {},
      "outputs": [],
      "source": [
        "# # sparse\n",
        "# !python -m neural_ir.evaluate --pretrained \"output/all_models_eval/sparse/model\" --output_dir \"output/original_data\" sparse"
      ]
    },
    {
      "cell_type": "markdown",
      "metadata": {},
      "source": [
        "#### Contractions"
      ]
    },
    {
      "cell_type": "code",
      "execution_count": null,
      "metadata": {},
      "outputs": [],
      "source": [
        "# # ce\n",
        "# !python -m neural_ir.evaluate --pretrained \"output/all_models_eval/ce/model\" --queries_path \"corrupted_data/contractions/dev_queries.tsv\" --output_dir \"output/corrupted_data/contractions\" ce"
      ]
    },
    {
      "cell_type": "code",
      "execution_count": null,
      "metadata": {},
      "outputs": [],
      "source": [
        "# # dense\n",
        "# !python -m neural_ir.evaluate --pretrained \"output/all_models_eval/dense/model\" --queries_path \"corrupted_data/contractions/dev_queries.tsv\" --output_dir \"output/corrupted_data/contractions\" dense"
      ]
    },
    {
      "cell_type": "code",
      "execution_count": null,
      "metadata": {},
      "outputs": [],
      "source": [
        "# # sparse\n",
        "# !python -m neural_ir.evaluate --pretrained \"output/all_models_eval/sparse/model\" --queries_path \"corrupted_data/contractions/dev_queries.tsv\" --output_dir \"output/corrupted_data/contractions\" sparse"
      ]
    },
    {
      "cell_type": "markdown",
      "metadata": {
        "id": "FP3J4KeXFHh8"
      },
      "source": [
        "#### Merged"
      ]
    },
    {
      "cell_type": "code",
      "execution_count": null,
      "metadata": {},
      "outputs": [],
      "source": [
        "# # ce\n",
        "# !python -m neural_ir.evaluate --pretrained \"output/all_models_eval/ce/model\" --queries_path \"corrupted_data/merged/dev_queries.tsv\" --output_dir \"output/corrupted_data/merged\" ce"
      ]
    },
    {
      "cell_type": "code",
      "execution_count": null,
      "metadata": {},
      "outputs": [],
      "source": [
        "# # dense\n",
        "# !python -m neural_ir.evaluate --pretrained \"output/all_models_eval/dense/model\" --queries_path \"corrupted_data/merged/dev_queries.tsv\" --output_dir \"output/corrupted_data/merged\" dense"
      ]
    },
    {
      "cell_type": "code",
      "execution_count": null,
      "metadata": {},
      "outputs": [],
      "source": [
        "# # sparse\n",
        "# !python -m neural_ir.evaluate --pretrained \"output/all_models_eval/sparse/model\" --queries_path \"corrupted_data/merged/dev_queries.tsv\" --output_dir \"output/corrupted_data/merged\" sparse"
      ]
    },
    {
      "cell_type": "markdown",
      "metadata": {},
      "source": [
        "#### Merged typos"
      ]
    },
    {
      "cell_type": "code",
      "execution_count": null,
      "metadata": {},
      "outputs": [],
      "source": [
        "# # ce\n",
        "# !python -m neural_ir.evaluate --pretrained \"output/all_models_eval/ce/model\" --queries_path \"corrupted_data/merged_typos/dev_queries.tsv\" --output_dir \"output/corrupted_data/merged_typos\" ce"
      ]
    },
    {
      "cell_type": "code",
      "execution_count": null,
      "metadata": {},
      "outputs": [],
      "source": [
        "# # dense\n",
        "# !python -m neural_ir.evaluate --pretrained \"output/all_models_eval/dense/model\" --queries_path \"corrupted_data/merged_typos/dev_queries.tsv\" --output_dir \"output/corrupted_data/merged_typos\" dense"
      ]
    },
    {
      "cell_type": "code",
      "execution_count": null,
      "metadata": {},
      "outputs": [],
      "source": [
        "# # sparse\n",
        "# !python -m neural_ir.evaluate --pretrained \"output/all_models_eval/sparse/model\" --queries_path \"corrupted_data/merged_typos/dev_queries.tsv\" --output_dir \"output/corrupted_data/merged_typos\" sparse"
      ]
    },
    {
      "cell_type": "markdown",
      "metadata": {},
      "source": [
        "#### Typos"
      ]
    },
    {
      "cell_type": "code",
      "execution_count": null,
      "metadata": {},
      "outputs": [],
      "source": [
        "# # ce\n",
        "# !python -m neural_ir.evaluate --pretrained \"output/all_models_eval/ce/model\" --queries_path \"corrupted_data/typos/dev_queries.tsv\" --output_dir \"output/corrupted_data/typos\" ce"
      ]
    },
    {
      "cell_type": "code",
      "execution_count": null,
      "metadata": {},
      "outputs": [],
      "source": [
        "# # dense\n",
        "# !python -m neural_ir.evaluate --pretrained \"output/all_models_eval/dense/model\" --queries_path \"corrupted_data/typos/dev_queries.tsv\" --output_dir \"output/corrupted_data/typos\" dense"
      ]
    },
    {
      "cell_type": "code",
      "execution_count": null,
      "metadata": {},
      "outputs": [],
      "source": [
        "# # sparse\n",
        "# !python -m neural_ir.evaluate --pretrained \"output/all_models_eval/sparse/model\" --queries_path \"corrupted_data/typos/dev_queries.tsv\" --output_dir \"output/corrupted_data/typos\" sparse"
      ]
    }
  ],
  "metadata": {
    "accelerator": "GPU",
    "colab": {
      "gpuType": "T4",
      "provenance": []
    },
    "kernelspec": {
      "display_name": "Python 3",
      "name": "python3"
    },
    "language_info": {
      "name": "python"
    }
  },
  "nbformat": 4,
  "nbformat_minor": 0
}
